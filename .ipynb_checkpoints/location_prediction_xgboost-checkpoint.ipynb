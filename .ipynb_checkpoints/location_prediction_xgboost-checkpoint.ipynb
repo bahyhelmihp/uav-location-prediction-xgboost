{
 "cells": [
  {
   "cell_type": "code",
   "execution_count": 75,
   "id": "a5f20d3e-c51b-41b1-a550-ad1841cbeb53",
   "metadata": {},
   "outputs": [],
   "source": [
    "import shap\n",
    "import pickle\n",
    "\n",
    "import matplotlib.pyplot as plt\n",
    "import numpy as np\n",
    "import pandas as pd\n",
    "import seaborn as sns\n",
    "\n",
    "from sklearn.preprocessing import StandardScaler, LabelEncoder\n",
    "from sklearn.model_selection import RandomizedSearchCV\n",
    "from xgboost import XGBRegressor\n",
    "from sklearn.metrics.pairwise import haversine_distances\n",
    "from math import radians"
   ]
  },
  {
   "cell_type": "markdown",
   "id": "03f1b48f-4ec5-4427-b7d6-a83b68c873af",
   "metadata": {},
   "source": [
    "### Load Dataset"
   ]
  },
  {
   "cell_type": "code",
   "execution_count": 7,
   "id": "15b1338c-c2bd-4ac6-8420-a700aa4a2120",
   "metadata": {},
   "outputs": [
    {
     "name": "stdout",
     "output_type": "stream",
     "text": [
      "(8791, 93)\n"
     ]
    },
    {
     "data": {
      "text/html": [
       "<div>\n",
       "<style scoped>\n",
       "    .dataframe tbody tr th:only-of-type {\n",
       "        vertical-align: middle;\n",
       "    }\n",
       "\n",
       "    .dataframe tbody tr th {\n",
       "        vertical-align: top;\n",
       "    }\n",
       "\n",
       "    .dataframe thead th {\n",
       "        text-align: right;\n",
       "    }\n",
       "</style>\n",
       "<table border=\"1\" class=\"dataframe\">\n",
       "  <thead>\n",
       "    <tr style=\"text-align: right;\">\n",
       "      <th></th>\n",
       "      <th>id</th>\n",
       "      <th>ExpID</th>\n",
       "      <th>PatternID</th>\n",
       "      <th>DeviceID</th>\n",
       "      <th>LineNo_ATT</th>\n",
       "      <th>TimeUS_ATT</th>\n",
       "      <th>DesRoll</th>\n",
       "      <th>Roll</th>\n",
       "      <th>DesPitch</th>\n",
       "      <th>Pitch</th>\n",
       "      <th>...</th>\n",
       "      <th>MOfsY_2</th>\n",
       "      <th>MOfsZ_2</th>\n",
       "      <th>LineNo_RCOU</th>\n",
       "      <th>TimeUS_RCOU</th>\n",
       "      <th>C1</th>\n",
       "      <th>C2</th>\n",
       "      <th>C3</th>\n",
       "      <th>C4</th>\n",
       "      <th>Lat</th>\n",
       "      <th>Lng</th>\n",
       "    </tr>\n",
       "  </thead>\n",
       "  <tbody>\n",
       "    <tr>\n",
       "      <th>0</th>\n",
       "      <td>0</td>\n",
       "      <td>6</td>\n",
       "      <td>2</td>\n",
       "      <td>F450</td>\n",
       "      <td>14206</td>\n",
       "      <td>867051417</td>\n",
       "      <td>-2.52</td>\n",
       "      <td>-0.74</td>\n",
       "      <td>-2.30</td>\n",
       "      <td>-1.55</td>\n",
       "      <td>...</td>\n",
       "      <td>0</td>\n",
       "      <td>0</td>\n",
       "      <td>14207</td>\n",
       "      <td>867051676</td>\n",
       "      <td>1536</td>\n",
       "      <td>1578</td>\n",
       "      <td>1719</td>\n",
       "      <td>1726</td>\n",
       "      <td>-6.557158</td>\n",
       "      <td>106.733964</td>\n",
       "    </tr>\n",
       "    <tr>\n",
       "      <th>1</th>\n",
       "      <td>1</td>\n",
       "      <td>6</td>\n",
       "      <td>2</td>\n",
       "      <td>F450</td>\n",
       "      <td>14216</td>\n",
       "      <td>867251550</td>\n",
       "      <td>-2.64</td>\n",
       "      <td>0.28</td>\n",
       "      <td>-2.95</td>\n",
       "      <td>-1.02</td>\n",
       "      <td>...</td>\n",
       "      <td>0</td>\n",
       "      <td>0</td>\n",
       "      <td>14217</td>\n",
       "      <td>867251950</td>\n",
       "      <td>1581</td>\n",
       "      <td>1553</td>\n",
       "      <td>1697</td>\n",
       "      <td>1733</td>\n",
       "      <td>-6.557158</td>\n",
       "      <td>106.733964</td>\n",
       "    </tr>\n",
       "    <tr>\n",
       "      <th>2</th>\n",
       "      <td>2</td>\n",
       "      <td>6</td>\n",
       "      <td>2</td>\n",
       "      <td>F450</td>\n",
       "      <td>14226</td>\n",
       "      <td>867451412</td>\n",
       "      <td>-2.80</td>\n",
       "      <td>-0.42</td>\n",
       "      <td>-3.46</td>\n",
       "      <td>-1.85</td>\n",
       "      <td>...</td>\n",
       "      <td>0</td>\n",
       "      <td>0</td>\n",
       "      <td>14227</td>\n",
       "      <td>867451674</td>\n",
       "      <td>1601</td>\n",
       "      <td>1540</td>\n",
       "      <td>1690</td>\n",
       "      <td>1726</td>\n",
       "      <td>-6.557159</td>\n",
       "      <td>106.733964</td>\n",
       "    </tr>\n",
       "    <tr>\n",
       "      <th>3</th>\n",
       "      <td>3</td>\n",
       "      <td>6</td>\n",
       "      <td>2</td>\n",
       "      <td>F450</td>\n",
       "      <td>14236</td>\n",
       "      <td>867651882</td>\n",
       "      <td>-2.63</td>\n",
       "      <td>-1.31</td>\n",
       "      <td>-3.70</td>\n",
       "      <td>-3.97</td>\n",
       "      <td>...</td>\n",
       "      <td>0</td>\n",
       "      <td>0</td>\n",
       "      <td>14237</td>\n",
       "      <td>867652298</td>\n",
       "      <td>1604</td>\n",
       "      <td>1529</td>\n",
       "      <td>1712</td>\n",
       "      <td>1683</td>\n",
       "      <td>-6.557159</td>\n",
       "      <td>106.733964</td>\n",
       "    </tr>\n",
       "    <tr>\n",
       "      <th>4</th>\n",
       "      <td>4</td>\n",
       "      <td>6</td>\n",
       "      <td>2</td>\n",
       "      <td>F450</td>\n",
       "      <td>14246</td>\n",
       "      <td>867851500</td>\n",
       "      <td>-2.38</td>\n",
       "      <td>-0.74</td>\n",
       "      <td>-2.95</td>\n",
       "      <td>-4.04</td>\n",
       "      <td>...</td>\n",
       "      <td>0</td>\n",
       "      <td>0</td>\n",
       "      <td>14247</td>\n",
       "      <td>867851877</td>\n",
       "      <td>1594</td>\n",
       "      <td>1520</td>\n",
       "      <td>1682</td>\n",
       "      <td>1693</td>\n",
       "      <td>-6.557159</td>\n",
       "      <td>106.733964</td>\n",
       "    </tr>\n",
       "  </tbody>\n",
       "</table>\n",
       "<p>5 rows × 93 columns</p>\n",
       "</div>"
      ],
      "text/plain": [
       "   id  ExpID  PatternID DeviceID  LineNo_ATT  TimeUS_ATT  DesRoll  Roll  \\\n",
       "0   0      6          2     F450       14206   867051417    -2.52 -0.74   \n",
       "1   1      6          2     F450       14216   867251550    -2.64  0.28   \n",
       "2   2      6          2     F450       14226   867451412    -2.80 -0.42   \n",
       "3   3      6          2     F450       14236   867651882    -2.63 -1.31   \n",
       "4   4      6          2     F450       14246   867851500    -2.38 -0.74   \n",
       "\n",
       "   DesPitch  Pitch  ...  MOfsY_2  MOfsZ_2  LineNo_RCOU  TimeUS_RCOU    C1  \\\n",
       "0     -2.30  -1.55  ...        0        0        14207    867051676  1536   \n",
       "1     -2.95  -1.02  ...        0        0        14217    867251950  1581   \n",
       "2     -3.46  -1.85  ...        0        0        14227    867451674  1601   \n",
       "3     -3.70  -3.97  ...        0        0        14237    867652298  1604   \n",
       "4     -2.95  -4.04  ...        0        0        14247    867851877  1594   \n",
       "\n",
       "     C2    C3    C4       Lat         Lng  \n",
       "0  1578  1719  1726 -6.557158  106.733964  \n",
       "1  1553  1697  1733 -6.557158  106.733964  \n",
       "2  1540  1690  1726 -6.557159  106.733964  \n",
       "3  1529  1712  1683 -6.557159  106.733964  \n",
       "4  1520  1682  1693 -6.557159  106.733964  \n",
       "\n",
       "[5 rows x 93 columns]"
      ]
     },
     "execution_count": 7,
     "metadata": {},
     "output_type": "execute_result"
    }
   ],
   "source": [
    "quad_data = pd.read_csv(\"datasets/QuadCopter/QuadData.csv\")\n",
    "print(quad_data.shape)\n",
    "quad_data.head()"
   ]
  },
  {
   "cell_type": "code",
   "execution_count": 8,
   "id": "14ff23d5-fb58-45a2-920a-24cd3c94a035",
   "metadata": {},
   "outputs": [
    {
     "data": {
      "text/plain": [
       "(6440, 93)"
      ]
     },
     "execution_count": 8,
     "metadata": {},
     "output_type": "execute_result"
    }
   ],
   "source": [
    "quad_data = quad_data[~quad_data['Lat'].isnull()].reset_index(drop=True)\n",
    "quad_data.shape"
   ]
  },
  {
   "cell_type": "markdown",
   "id": "02320fb8-9f70-42ec-a18b-d70752961d37",
   "metadata": {},
   "source": [
    "### Exploratory Data Analysis"
   ]
  },
  {
   "cell_type": "code",
   "execution_count": 9,
   "id": "c5e0e035-6a1a-455c-8bf6-67e2da6bb4cb",
   "metadata": {},
   "outputs": [
    {
     "data": {
      "text/plain": [
       "ExpID  PatternID  DeviceID\n",
       "1      1          F450        285\n",
       "2      1          F450        702\n",
       "3      1          F450        604\n",
       "4      1          F450        652\n",
       "5      1          F450        621\n",
       "6      2          F450        516\n",
       "7      1          F330        236\n",
       "8      2          F330        729\n",
       "9      2          F330        419\n",
       "10     2          F330        728\n",
       "11     2          F330        517\n",
       "12     2          F330        431\n",
       "dtype: int64"
      ]
     },
     "execution_count": 9,
     "metadata": {},
     "output_type": "execute_result"
    }
   ],
   "source": [
    "# See: \n",
    "# - how many experiments done in this data (ExpID)\n",
    "# - how many routes existed (PatternID)\n",
    "# - how many quadcopter used (DeviceID)\n",
    "\n",
    "quad_data.groupby([\"ExpID\", \"PatternID\", \"DeviceID\"]).size()"
   ]
  },
  {
   "cell_type": "code",
   "execution_count": 10,
   "id": "0b5af664-b5aa-44ec-ae13-a7b03413a5e4",
   "metadata": {
    "scrolled": true,
    "tags": []
   },
   "outputs": [
    {
     "data": {
      "image/png": "[encoded data removed]",
      "text/plain": [
       "<Figure size 432x288 with 1 Axes>"
      ]
     },
     "metadata": {},
     "output_type": "display_data"
    },
    {
     "data": {
      "image/png": "[encoded data removed]",
      "text/plain": [
       "<Figure size 432x288 with 1 Axes>"
      ]
     },
     "metadata": {},
     "output_type": "display_data"
    },
    {
     "data": {
      "image/png": "[encoded data removed]",
      "text/plain": [
       "<Figure size 432x288 with 1 Axes>"
      ]
     },
     "metadata": {},
     "output_type": "display_data"
    },
    {
     "data": {
      "image/png": "[encoded data removed]",
      "text/plain": [
       "<Figure size 432x288 with 1 Axes>"
      ]
     },
     "metadata": {},
     "output_type": "display_data"
    },
    {
     "data": {
      "image/png": "[encoded data removed]",
      "text/plain": [
       "<Figure size 432x288 with 1 Axes>"
      ]
     },
     "metadata": {},
     "output_type": "display_data"
    },
    {
     "data": {
      "image/png": "[encoded data removed]",
      "text/plain": [
       "<Figure size 432x288 with 1 Axes>"
      ]
     },
     "metadata": {},
     "output_type": "display_data"
    },
    {
     "data": {
      "image/png": "[encoded data removed]",
      "text/plain": [
       "<Figure size 432x288 with 1 Axes>"
      ]
     },
     "metadata": {},
     "output_type": "display_data"
    },
    {
     "data": {
      "image/png": "[encoded data removed]",
      "text/plain": [
       "<Figure size 432x288 with 1 Axes>"
      ]
     },
     "metadata": {},
     "output_type": "display_data"
    },
    {
     "data": {
      "image/png": "[encoded data removed]",
      "text/plain": [
       "<Figure size 432x288 with 1 Axes>"
      ]
     },
     "metadata": {},
     "output_type": "display_data"
    },
    {
     "data": {
      "image/png": "[encoded data removed]",
      "text/plain": [
       "<Figure size 432x288 with 1 Axes>"
      ]
     },
     "metadata": {},
     "output_type": "display_data"
    },
    {
     "data": {
      "image/png": "[encoded data removed]",
      "text/plain": [
       "<Figure size 432x288 with 1 Axes>"
      ]
     },
     "metadata": {},
     "output_type": "display_data"
    },
    {
     "data": {
      "image/png": "[encoded data removed]",
      "text/plain": [
       "<Figure size 432x288 with 1 Axes>"
      ]
     },
     "metadata": {},
     "output_type": "display_data"
    }
   ],
   "source": [
    "# Plot all the flights\n",
    "for i in range(1, 13):\n",
    "    plt.subplots()\n",
    "    \n",
    "    plt.plot(quad_data[quad_data[\"ExpID\"] == i]['Lat'], quad_data[quad_data[\"ExpID\"] == i]['Lng'])\n",
    "    plt.xticks([], [])\n",
    "    plt.yticks([], [])\n",
    "    \n",
    "    pattern_id = quad_data[quad_data[\"ExpID\"] == i][\"PatternID\"].unique()[0]\n",
    "\n",
    "    plt.title(\"Route flight of \\nPatternID %s, ExpID %s\" % (pattern_id, i))\n",
    "    plt.show()"
   ]
  },
  {
   "cell_type": "code",
   "execution_count": 11,
   "id": "c81d76dc-3052-49ac-ba48-959d0d924829",
   "metadata": {},
   "outputs": [
    {
     "data": {
      "text/plain": [
       "285"
      ]
     },
     "execution_count": 11,
     "metadata": {},
     "output_type": "execute_result"
    }
   ],
   "source": [
    "len(quad_data[quad_data['ExpID'] == 1])"
   ]
  },
  {
   "cell_type": "code",
   "execution_count": 12,
   "id": "7752666e-0777-4cdd-8f80-c699b67a8c61",
   "metadata": {},
   "outputs": [
    {
     "data": {
      "text/plain": [
       "(-6.5574588, -6.556893400000001)"
      ]
     },
     "execution_count": 12,
     "metadata": {},
     "output_type": "execute_result"
    }
   ],
   "source": [
    "# Minimum and maximum latitude\n",
    "quad_data['Lat'].min(), quad_data['Lat'].max() "
   ]
  },
  {
   "cell_type": "code",
   "execution_count": 13,
   "id": "eab31f51-e273-4014-b539-4a58ca06dbe1",
   "metadata": {},
   "outputs": [
    {
     "data": {
      "text/plain": [
       "(106.7336888, 106.734247)"
      ]
     },
     "execution_count": 13,
     "metadata": {},
     "output_type": "execute_result"
    }
   ],
   "source": [
    "# Minimum and maximum longitude\n",
    "quad_data['Lng'].min(), quad_data['Lng'].max() "
   ]
  },
  {
   "cell_type": "markdown",
   "id": "266e1950-7b74-4a14-94e6-9942f7de9d2a",
   "metadata": {},
   "source": [
    "### Feature Engineering "
   ]
  },
  {
   "cell_type": "markdown",
   "id": "f2d6df46-d9aa-42e9-b71a-ecea1065a9f9",
   "metadata": {},
   "source": [
    "#### 1. Lat-Lng - Standard Scaler"
   ]
  },
  {
   "cell_type": "code",
   "execution_count": 14,
   "id": "7c3604a6-752b-4f35-8966-cbc8ba07fc2e",
   "metadata": {},
   "outputs": [
    {
     "data": {
      "image/png": "[encoded data removed]",
      "text/plain": [
       "<Figure size 360x360 with 1 Axes>"
      ]
     },
     "metadata": {
      "needs_background": "light"
     },
     "output_type": "display_data"
    }
   ],
   "source": [
    "sns.displot(quad_data['Lat'], color='r')\n",
    "plt.title(\"Latitude before Scaling\")\n",
    "\n",
    "plt.show()"
   ]
  },
  {
   "cell_type": "code",
   "execution_count": 15,
   "id": "af0a5847-e81b-43c3-b20f-a3a0afac050c",
   "metadata": {},
   "outputs": [
    {
     "data": {
      "image/png": "[encoded data removed]",
      "text/plain": [
       "<Figure size 360x360 with 1 Axes>"
      ]
     },
     "metadata": {
      "needs_background": "light"
     },
     "output_type": "display_data"
    }
   ],
   "source": [
    "sns.displot(quad_data['Lng'])\n",
    "plt.title(\"Longitude before Scaling\")\n",
    "\n",
    "plt.show()"
   ]
  },
  {
   "cell_type": "code",
   "execution_count": 16,
   "id": "15ef6d58-7089-41fa-8b04-3abfca58660d",
   "metadata": {},
   "outputs": [],
   "source": [
    "# Create standard distriubtion scaler for longitude\n",
    "sc_long = StandardScaler()\n",
    "new_long = sc_long.fit_transform(quad_data[['Lng']])\n",
    "quad_data['Lng_Scaled'] = new_long"
   ]
  },
  {
   "cell_type": "code",
   "execution_count": 17,
   "id": "f0c2c443-14a0-45e0-a522-6cabf1b313cf",
   "metadata": {},
   "outputs": [
    {
     "data": {
      "image/png": "[encoded data removed]",
      "text/plain": [
       "<Figure size 360x360 with 1 Axes>"
      ]
     },
     "metadata": {
      "needs_background": "light"
     },
     "output_type": "display_data"
    }
   ],
   "source": [
    "sns.displot(quad_data['Lng_Scaled'], color='r')\n",
    "plt.title(\"Longitude after Scaling\")\n",
    "plt.show()"
   ]
  },
  {
   "cell_type": "code",
   "execution_count": 18,
   "id": "5ca5442c-30f2-49d0-bd43-a72e96737e4f",
   "metadata": {},
   "outputs": [],
   "source": [
    "# Create standard distriubtion scaler for latitude\n",
    "sc_lat = StandardScaler()\n",
    "new_lat = sc_lat.fit_transform(quad_data[['Lat']])\n",
    "quad_data['Lat_Scaled'] = new_lat"
   ]
  },
  {
   "cell_type": "code",
   "execution_count": 19,
   "id": "6d0af8ce-173a-45a1-8264-6aea1c5eec12",
   "metadata": {},
   "outputs": [
    {
     "data": {
      "image/png": "[encoded data removed]",
      "text/plain": [
       "<Figure size 360x360 with 1 Axes>"
      ]
     },
     "metadata": {
      "needs_background": "light"
     },
     "output_type": "display_data"
    }
   ],
   "source": [
    "sns.displot(quad_data['Lat_Scaled'])\n",
    "plt.title(\"Latitude after Scaling\")\n",
    "plt.show()"
   ]
  },
  {
   "cell_type": "markdown",
   "id": "dae65d59-3078-4d3a-b066-99522b8185f9",
   "metadata": {},
   "source": [
    "#### 2. PatternID & DeviceID - Create Dummy Variables"
   ]
  },
  {
   "cell_type": "code",
   "execution_count": 20,
   "id": "402374ac-09fc-4878-9eab-d6176c486e21",
   "metadata": {},
   "outputs": [
    {
     "data": {
      "text/html": [
       "<div>\n",
       "<style scoped>\n",
       "    .dataframe tbody tr th:only-of-type {\n",
       "        vertical-align: middle;\n",
       "    }\n",
       "\n",
       "    .dataframe tbody tr th {\n",
       "        vertical-align: top;\n",
       "    }\n",
       "\n",
       "    .dataframe thead th {\n",
       "        text-align: right;\n",
       "    }\n",
       "</style>\n",
       "<table border=\"1\" class=\"dataframe\">\n",
       "  <thead>\n",
       "    <tr style=\"text-align: right;\">\n",
       "      <th></th>\n",
       "      <th>PatternID</th>\n",
       "      <th>DeviceID</th>\n",
       "    </tr>\n",
       "  </thead>\n",
       "  <tbody>\n",
       "    <tr>\n",
       "      <th>0</th>\n",
       "      <td>2</td>\n",
       "      <td>F450</td>\n",
       "    </tr>\n",
       "    <tr>\n",
       "      <th>1</th>\n",
       "      <td>2</td>\n",
       "      <td>F450</td>\n",
       "    </tr>\n",
       "    <tr>\n",
       "      <th>2</th>\n",
       "      <td>2</td>\n",
       "      <td>F450</td>\n",
       "    </tr>\n",
       "    <tr>\n",
       "      <th>3</th>\n",
       "      <td>2</td>\n",
       "      <td>F450</td>\n",
       "    </tr>\n",
       "    <tr>\n",
       "      <th>4</th>\n",
       "      <td>2</td>\n",
       "      <td>F450</td>\n",
       "    </tr>\n",
       "  </tbody>\n",
       "</table>\n",
       "</div>"
      ],
      "text/plain": [
       "   PatternID DeviceID\n",
       "0          2     F450\n",
       "1          2     F450\n",
       "2          2     F450\n",
       "3          2     F450\n",
       "4          2     F450"
      ]
     },
     "execution_count": 20,
     "metadata": {},
     "output_type": "execute_result"
    }
   ],
   "source": [
    "quad_data[['PatternID', 'DeviceID']].head()"
   ]
  },
  {
   "cell_type": "code",
   "execution_count": 21,
   "id": "7148767c-4395-4ed1-a3ad-6b1e50c35a3c",
   "metadata": {},
   "outputs": [
    {
     "data": {
      "text/html": [
       "<div>\n",
       "<style scoped>\n",
       "    .dataframe tbody tr th:only-of-type {\n",
       "        vertical-align: middle;\n",
       "    }\n",
       "\n",
       "    .dataframe tbody tr th {\n",
       "        vertical-align: top;\n",
       "    }\n",
       "\n",
       "    .dataframe thead th {\n",
       "        text-align: right;\n",
       "    }\n",
       "</style>\n",
       "<table border=\"1\" class=\"dataframe\">\n",
       "  <thead>\n",
       "    <tr style=\"text-align: right;\">\n",
       "      <th></th>\n",
       "      <th>PatternID_1</th>\n",
       "      <th>PatternID_2</th>\n",
       "    </tr>\n",
       "  </thead>\n",
       "  <tbody>\n",
       "    <tr>\n",
       "      <th>0</th>\n",
       "      <td>0</td>\n",
       "      <td>1</td>\n",
       "    </tr>\n",
       "    <tr>\n",
       "      <th>1</th>\n",
       "      <td>0</td>\n",
       "      <td>1</td>\n",
       "    </tr>\n",
       "    <tr>\n",
       "      <th>2</th>\n",
       "      <td>0</td>\n",
       "      <td>1</td>\n",
       "    </tr>\n",
       "    <tr>\n",
       "      <th>3</th>\n",
       "      <td>0</td>\n",
       "      <td>1</td>\n",
       "    </tr>\n",
       "    <tr>\n",
       "      <th>4</th>\n",
       "      <td>0</td>\n",
       "      <td>1</td>\n",
       "    </tr>\n",
       "  </tbody>\n",
       "</table>\n",
       "</div>"
      ],
      "text/plain": [
       "   PatternID_1  PatternID_2\n",
       "0            0            1\n",
       "1            0            1\n",
       "2            0            1\n",
       "3            0            1\n",
       "4            0            1"
      ]
     },
     "execution_count": 21,
     "metadata": {},
     "output_type": "execute_result"
    }
   ],
   "source": [
    "pd.get_dummies(quad_data[\"PatternID\"], prefix=\"PatternID\").head()"
   ]
  },
  {
   "cell_type": "code",
   "execution_count": 22,
   "id": "040ef66d-6334-42e7-b87c-9458ad7ae889",
   "metadata": {},
   "outputs": [
    {
     "data": {
      "text/html": [
       "<div>\n",
       "<style scoped>\n",
       "    .dataframe tbody tr th:only-of-type {\n",
       "        vertical-align: middle;\n",
       "    }\n",
       "\n",
       "    .dataframe tbody tr th {\n",
       "        vertical-align: top;\n",
       "    }\n",
       "\n",
       "    .dataframe thead th {\n",
       "        text-align: right;\n",
       "    }\n",
       "</style>\n",
       "<table border=\"1\" class=\"dataframe\">\n",
       "  <thead>\n",
       "    <tr style=\"text-align: right;\">\n",
       "      <th></th>\n",
       "      <th>DeviceID_F330</th>\n",
       "      <th>DeviceID_F450</th>\n",
       "    </tr>\n",
       "  </thead>\n",
       "  <tbody>\n",
       "    <tr>\n",
       "      <th>0</th>\n",
       "      <td>0</td>\n",
       "      <td>1</td>\n",
       "    </tr>\n",
       "    <tr>\n",
       "      <th>1</th>\n",
       "      <td>0</td>\n",
       "      <td>1</td>\n",
       "    </tr>\n",
       "    <tr>\n",
       "      <th>2</th>\n",
       "      <td>0</td>\n",
       "      <td>1</td>\n",
       "    </tr>\n",
       "    <tr>\n",
       "      <th>3</th>\n",
       "      <td>0</td>\n",
       "      <td>1</td>\n",
       "    </tr>\n",
       "    <tr>\n",
       "      <th>4</th>\n",
       "      <td>0</td>\n",
       "      <td>1</td>\n",
       "    </tr>\n",
       "  </tbody>\n",
       "</table>\n",
       "</div>"
      ],
      "text/plain": [
       "   DeviceID_F330  DeviceID_F450\n",
       "0              0              1\n",
       "1              0              1\n",
       "2              0              1\n",
       "3              0              1\n",
       "4              0              1"
      ]
     },
     "execution_count": 22,
     "metadata": {},
     "output_type": "execute_result"
    }
   ],
   "source": [
    "pd.get_dummies(quad_data[\"DeviceID\"], prefix=\"DeviceID\").head()"
   ]
  },
  {
   "cell_type": "code",
   "execution_count": 23,
   "id": "304f0e9b-fe31-4235-a8da-e67e0379ec2e",
   "metadata": {},
   "outputs": [
    {
     "name": "stdout",
     "output_type": "stream",
     "text": [
      "(6440, 95)\n"
     ]
    },
    {
     "data": {
      "text/plain": [
       "(6440, 98)"
      ]
     },
     "execution_count": 23,
     "metadata": {},
     "output_type": "execute_result"
    }
   ],
   "source": [
    "# Concat with the original dataframe\n",
    "print(quad_data.shape)\n",
    "quad_data = pd.concat([quad_data, pd.get_dummies(quad_data[\"PatternID\"], prefix=\"PatternID\")], axis=1)\n",
    "quad_data = pd.concat([quad_data, pd.get_dummies(quad_data[\"DeviceID\"], prefix=\"DeviceID\")], axis=1)\n",
    "quad_data = quad_data.drop(\"DeviceID\", axis=1)\n",
    "quad_data.shape"
   ]
  },
  {
   "cell_type": "markdown",
   "id": "4f68bc01-b1c4-434a-a42d-4e7859f69e06",
   "metadata": {},
   "source": [
    "#### 3. Yaw - Degree to Cardinal Direction"
   ]
  },
  {
   "cell_type": "code",
   "execution_count": 24,
   "id": "cb3f30fd-8382-4636-8c69-dd9479d74861",
   "metadata": {},
   "outputs": [
    {
     "data": {
      "text/plain": [
       "0      2.12\n",
       "1    359.69\n",
       "2    357.66\n",
       "3    356.25\n",
       "4    355.72\n",
       "Name: Yaw, dtype: float64"
      ]
     },
     "execution_count": 24,
     "metadata": {},
     "output_type": "execute_result"
    }
   ],
   "source": [
    "quad_data['Yaw'].head()"
   ]
  },
  {
   "cell_type": "code",
   "execution_count": 25,
   "id": "ef955be9-988d-4354-bdcf-91f3891921d2",
   "metadata": {},
   "outputs": [],
   "source": [
    "def deg_to_compass(num):\n",
    "    val = int((num/22.5)+.5)\n",
    "    arr = [\"N\", \"NNE\", \"NE\", \"ENE\", \"E\", \"ESE\", \"SE\", \"SSE\", \"S\", \"SSW\", \"SW\", \"WSW\", \"W\", \"WNW\", \"NW\", \"NNW\"]\n",
    "    return arr[(val % 16)]"
   ]
  },
  {
   "cell_type": "code",
   "execution_count": 26,
   "id": "4a35f947-45b9-43dd-b00b-b8b6ad68f323",
   "metadata": {},
   "outputs": [
    {
     "data": {
      "text/plain": [
       "0    N\n",
       "1    N\n",
       "2    N\n",
       "3    N\n",
       "4    N\n",
       "Name: Yaw_Dir, dtype: category\n",
       "Categories (16, object): ['E', 'ENE', 'ESE', 'N', ..., 'SW', 'W', 'WNW', 'WSW']"
      ]
     },
     "execution_count": 26,
     "metadata": {},
     "output_type": "execute_result"
    }
   ],
   "source": [
    "quad_data['Yaw_Dir'] = quad_data['Yaw'].apply(lambda x: deg_to_compass(x)).astype(\"category\")\n",
    "quad_data['Yaw_Dir'].head()"
   ]
  },
  {
   "cell_type": "code",
   "execution_count": 27,
   "id": "2f2c946c-3656-4e4b-93ff-ec93b9ffeede",
   "metadata": {},
   "outputs": [
    {
     "data": {
      "text/plain": [
       "0    3\n",
       "1    3\n",
       "2    3\n",
       "3    3\n",
       "4    3\n",
       "Name: Yaw_Dir, dtype: int64"
      ]
     },
     "execution_count": 27,
     "metadata": {},
     "output_type": "execute_result"
    }
   ],
   "source": [
    "le_yaw = LabelEncoder()\n",
    "quad_data['Yaw_Dir'] = le_yaw.fit_transform(quad_data['Yaw_Dir'])\n",
    "quad_data['Yaw_Dir'].head()"
   ]
  },
  {
   "cell_type": "markdown",
   "id": "275ce109-8213-4935-b14c-dfd38ed4cf69",
   "metadata": {},
   "source": [
    "#### 4. Yaw - Degree to Radians"
   ]
  },
  {
   "cell_type": "code",
   "execution_count": 28,
   "id": "7b89a00d-1ddd-4448-bc59-d5a9f24a5dee",
   "metadata": {},
   "outputs": [
    {
     "data": {
      "text/plain": [
       "0      2.12\n",
       "1    359.69\n",
       "2    357.66\n",
       "3    356.25\n",
       "4    355.72\n",
       "Name: Yaw, dtype: float64"
      ]
     },
     "execution_count": 28,
     "metadata": {},
     "output_type": "execute_result"
    }
   ],
   "source": [
    "quad_data['Yaw'].head()"
   ]
  },
  {
   "cell_type": "code",
   "execution_count": 29,
   "id": "544ab95f-8bbe-4656-9859-e1f4c780f19b",
   "metadata": {},
   "outputs": [],
   "source": [
    "def deg_to_radian(degree):\n",
    "    return degree * (np.pi/180)"
   ]
  },
  {
   "cell_type": "code",
   "execution_count": 30,
   "id": "b7d4fe82-eeda-4384-82dd-3cddbeec08da",
   "metadata": {},
   "outputs": [
    {
     "data": {
      "text/plain": [
       "0    0.037001\n",
       "1    6.277775\n",
       "2    6.242345\n",
       "3    6.217735\n",
       "4    6.208485\n",
       "Name: Yaw_Rad, dtype: float64"
      ]
     },
     "execution_count": 30,
     "metadata": {},
     "output_type": "execute_result"
    }
   ],
   "source": [
    "quad_data['Yaw_Rad'] = quad_data['Yaw'].apply(lambda x: deg_to_radian(x))\n",
    "quad_data['Yaw_Rad'].head()"
   ]
  },
  {
   "cell_type": "markdown",
   "id": "651815a3-ab08-46ba-b225-e611b152a526",
   "metadata": {},
   "source": [
    "#### 5. Magnitude - Total All Axis Magnitude"
   ]
  },
  {
   "cell_type": "code",
   "execution_count": 31,
   "id": "c4c68b37-dc4d-4eb2-ad7a-2adc2c4478f2",
   "metadata": {},
   "outputs": [
    {
     "data": {
      "text/plain": [
       "0    170\n",
       "1    196\n",
       "2    203\n",
       "3    193\n",
       "4    196\n",
       "Name: Mag_Total, dtype: int64"
      ]
     },
     "execution_count": 31,
     "metadata": {},
     "output_type": "execute_result"
    }
   ],
   "source": [
    "quad_data[\"Mag_Total\"] =  quad_data[\"MagX\"] + quad_data[\"MagY\"] + quad_data[\"MagZ\"]\n",
    "quad_data[\"Mag_Total\"].head()"
   ]
  },
  {
   "cell_type": "markdown",
   "id": "e2490a9b-5e31-4d16-b725-2322fe181ef9",
   "metadata": {},
   "source": [
    "### Feature Selection"
   ]
  },
  {
   "cell_type": "code",
   "execution_count": 32,
   "id": "2f6d5d52-2ba5-4dc2-88b2-926b21f7dbb4",
   "metadata": {},
   "outputs": [
    {
     "data": {
      "text/plain": [
       "(6440, 101)"
      ]
     },
     "execution_count": 32,
     "metadata": {},
     "output_type": "execute_result"
    }
   ],
   "source": [
    "quad_data.shape"
   ]
  },
  {
   "cell_type": "code",
   "execution_count": 33,
   "id": "d681405d-0743-4a99-bb86-9511a6de1d35",
   "metadata": {
    "scrolled": true,
    "tags": []
   },
   "outputs": [
    {
     "name": "stderr",
     "output_type": "stream",
     "text": [
      "`np.bool` is a deprecated alias for the builtin `bool`. To silence this warning, use `bool` by itself. Doing this will not modify any behavior and is safe. If you specifically wanted the numpy scalar type, use `np.bool_` here.\n",
      "Deprecated in NumPy 1.20; for more details and guidance: https://numpy.org/devdocs/release/1.20.0-notes.html#deprecations\n"
     ]
    },
    {
     "data": {
      "text/plain": [
       "['ThO',\n",
       " 'Alt',\n",
       " 'BAlt',\n",
       " 'HDop',\n",
       " 'AccX_2',\n",
       " 'OfsZ',\n",
       " 'MagX_2',\n",
       " 'MagY_2',\n",
       " 'OfsX_2',\n",
       " 'OfsY_2',\n",
       " 'DeviceID_F330',\n",
       " 'DeviceID_F450',\n",
       " 'id']"
      ]
     },
     "execution_count": 33,
     "metadata": {},
     "output_type": "execute_result"
    }
   ],
   "source": [
    "# Create correlation matrix\n",
    "corr = quad_data.corr().abs()\n",
    "\n",
    "# Select upper triangle of correlation matrix\n",
    "upper = corr.where(np.triu(np.ones(corr.shape), k=1).astype(np.bool))\n",
    "\n",
    "# Find features with correlation greater than 0.95\n",
    "to_drop = [column for column in upper.columns if np.any(np.where((upper[column] > 0.95) & (upper[column] < 0.99)))]\n",
    "to_drop.append(\"id\")\n",
    "to_drop"
   ]
  },
  {
   "cell_type": "code",
   "execution_count": 34,
   "id": "f0c693e0-806c-440b-8a3a-9ed88c1aafa6",
   "metadata": {},
   "outputs": [
    {
     "data": {
      "text/plain": [
       "(6440, 88)"
      ]
     },
     "execution_count": 34,
     "metadata": {},
     "output_type": "execute_result"
    }
   ],
   "source": [
    "quad_data = quad_data.drop(to_drop, axis=1)\n",
    "quad_data.shape"
   ]
  },
  {
   "cell_type": "markdown",
   "id": "e01c46e1-a8ed-4bba-aab8-574462b78c2e",
   "metadata": {},
   "source": [
    "### Training"
   ]
  },
  {
   "cell_type": "code",
   "execution_count": 35,
   "id": "989ccfc5-2236-4e45-ae88-2be6fdf26eb9",
   "metadata": {},
   "outputs": [
    {
     "data": {
      "text/plain": [
       "ExpID  PatternID\n",
       "1      1            285\n",
       "2      1            702\n",
       "3      1            604\n",
       "4      1            652\n",
       "5      1            621\n",
       "6      2            516\n",
       "7      1            236\n",
       "8      2            729\n",
       "9      2            419\n",
       "10     2            728\n",
       "11     2            517\n",
       "12     2            431\n",
       "dtype: int64"
      ]
     },
     "execution_count": 35,
     "metadata": {},
     "output_type": "execute_result"
    }
   ],
   "source": [
    "# Split data stratified based on pattern\n",
    "# We have 12 experiments:\n",
    "# -> 6 PatternID: 1\n",
    "# -> 6 PatternID: 2\n",
    "\n",
    "quad_data.groupby([\"ExpID\", \"PatternID\"]).size()"
   ]
  },
  {
   "cell_type": "code",
   "execution_count": 36,
   "id": "4397c2fd-3614-4f6b-b7ed-d98052b1efc0",
   "metadata": {},
   "outputs": [
    {
     "name": "stdout",
     "output_type": "stream",
     "text": [
      "(4150, 85)\n",
      "(2290, 85)\n"
     ]
    }
   ],
   "source": [
    "# Split data stratified by PatternID:\n",
    "# Train: 2/3 (8)\n",
    "# Test: 1/3 (4)\n",
    "train_exp_id = [1, 3, 5, 7, 6, 8, 10, 12]\n",
    "test_exp_id = [2, 4, 9, 11]\n",
    "\n",
    "train_data = quad_data[quad_data['ExpID'].isin(train_exp_id)].drop([\"Lat\", \"Lng\", \"PatternID\"], axis=1)\n",
    "test_data = quad_data[quad_data['ExpID'].isin(test_exp_id)].drop([\"Lat\", \"Lng\", \"PatternID\"], axis=1)\n",
    "\n",
    "print(train_data.shape)\n",
    "print(test_data.shape)"
   ]
  },
  {
   "cell_type": "code",
   "execution_count": 37,
   "id": "4f89ae9b-3e00-4661-b050-06e4a8eee61b",
   "metadata": {},
   "outputs": [],
   "source": [
    "X_train, y_train_lat, y_train_lng = train_data.drop([\"Lat_Scaled\", \"Lng_Scaled\"], axis=1), train_data[\"Lat_Scaled\"], train_data[\"Lng_Scaled\"]\n",
    "X_test, y_test_lat, y_test_lng = test_data.drop([\"Lat_Scaled\", \"Lng_Scaled\"], axis=1), test_data[\"Lat_Scaled\"], test_data[\"Lng_Scaled\"]"
   ]
  },
  {
   "cell_type": "code",
   "execution_count": 38,
   "id": "139958eb-c6e7-45de-8777-85cf0ad30ac5",
   "metadata": {},
   "outputs": [
    {
     "data": {
      "text/plain": [
       "XGBRegressor(base_score=0.5, booster='gbtree', colsample_bylevel=1,\n",
       "             colsample_bynode=1, colsample_bytree=1, enable_categorical=False,\n",
       "             gamma=0, gpu_id=-1, importance_type=None,\n",
       "             interaction_constraints='', learning_rate=0.300000012,\n",
       "             max_delta_step=0, max_depth=6, min_child_weight=1, missing=nan,\n",
       "             monotone_constraints='()', n_estimators=100, n_jobs=20,\n",
       "             num_parallel_tree=1, predictor='auto', random_state=0, reg_alpha=0,\n",
       "             reg_lambda=1, scale_pos_weight=1, subsample=1, tree_method='exact',\n",
       "             validate_parameters=1, verbosity=None)"
      ]
     },
     "execution_count": 38,
     "metadata": {},
     "output_type": "execute_result"
    }
   ],
   "source": [
    "# Train on latitude\n",
    "xgb_lat = XGBRegressor()\n",
    "xgb_lat.fit(X_train, y_train_lat, verbose=5)"
   ]
  },
  {
   "cell_type": "code",
   "execution_count": 78,
   "id": "1b01ecf3-251c-412f-bbd2-ab80216fded3",
   "metadata": {},
   "outputs": [],
   "source": [
    "# Using tuned latitude model\n",
    "xgb_lat = pickle.load(open(\"xgb_tuned_lat.pickle\", \"rb\"))"
   ]
  },
  {
   "cell_type": "code",
   "execution_count": 39,
   "id": "622bd7cb-016a-4df8-83cb-127426acc105",
   "metadata": {},
   "outputs": [
    {
     "data": {
      "text/plain": [
       "XGBRegressor(base_score=0.5, booster='gbtree', colsample_bylevel=1,\n",
       "             colsample_bynode=1, colsample_bytree=1, enable_categorical=False,\n",
       "             gamma=0, gpu_id=-1, importance_type=None,\n",
       "             interaction_constraints='', learning_rate=0.300000012,\n",
       "             max_delta_step=0, max_depth=6, min_child_weight=1, missing=nan,\n",
       "             monotone_constraints='()', n_estimators=100, n_jobs=20,\n",
       "             num_parallel_tree=1, predictor='auto', random_state=0, reg_alpha=0,\n",
       "             reg_lambda=1, scale_pos_weight=1, subsample=1, tree_method='exact',\n",
       "             validate_parameters=1, verbosity=None)"
      ]
     },
     "execution_count": 39,
     "metadata": {},
     "output_type": "execute_result"
    }
   ],
   "source": [
    "# Train on longitude\n",
    "xgb_lng = XGBRegressor()\n",
    "xgb_lng.fit(X_train, y_train_lng, verbose=5)"
   ]
  },
  {
   "cell_type": "code",
   "execution_count": 79,
   "id": "811c7a49-b9f8-4d43-947b-84da24e5b6fc",
   "metadata": {},
   "outputs": [],
   "source": [
    "# Using tuned longitude model\n",
    "xgb_lng = pickle.load(open(\"xgb_tuned_lng.pickle\", \"rb\"))"
   ]
  },
  {
   "cell_type": "markdown",
   "id": "3e74ceb9-e7e6-410d-9e92-bdb8bcecabb8",
   "metadata": {},
   "source": [
    "### Evaluate Haversine Distance"
   ]
  },
  {
   "cell_type": "code",
   "execution_count": 80,
   "id": "1580cd43-098b-4e28-9676-116cdab06fc5",
   "metadata": {
    "scrolled": true,
    "tags": []
   },
   "outputs": [],
   "source": [
    "# Predict lat & long for test data, per experiment\n",
    "pred_lat = X_test.groupby(\"ExpID\").apply(lambda x: sc_lat.inverse_transform(xgb_lat.predict(x).reshape(-1,1)).reshape(-1))\n",
    "pred_lng = X_test.groupby(\"ExpID\").apply(lambda x: sc_long.inverse_transform(xgb_lng.predict(x).reshape(-1,1)).reshape(-1))"
   ]
  },
  {
   "cell_type": "code",
   "execution_count": 81,
   "id": "74dd282a-8ec0-4a04-8122-829ef0e58fa6",
   "metadata": {},
   "outputs": [
    {
     "data": {
      "text/plain": [
       "Int64Index([2, 4, 9, 11], dtype='int64', name='ExpID')"
      ]
     },
     "execution_count": 81,
     "metadata": {},
     "output_type": "execute_result"
    }
   ],
   "source": [
    "pred_lat.index"
   ]
  },
  {
   "cell_type": "code",
   "execution_count": 82,
   "id": "30b5a3f3-d4ea-4403-9eea-9bb5304611c9",
   "metadata": {},
   "outputs": [],
   "source": [
    "pred_lat_flatten = np.array([])\n",
    "for exp_pred in pred_lat:\n",
    "    pred_lat_flatten = np.concatenate((pred_lat_flatten, exp_pred))\n",
    "    \n",
    "pred_lng_flatten = np.array([])\n",
    "for exp_pred in pred_lng:\n",
    "    pred_lng_flatten = np.concatenate((pred_lng_flatten, exp_pred))"
   ]
  },
  {
   "cell_type": "code",
   "execution_count": 83,
   "id": "72539e13-65c2-481c-a404-6ad2079a9d50",
   "metadata": {
    "scrolled": true,
    "tags": []
   },
   "outputs": [
    {
     "data": {
      "text/plain": [
       "((2290,), (2290,))"
      ]
     },
     "execution_count": 83,
     "metadata": {},
     "output_type": "execute_result"
    }
   ],
   "source": [
    "pred_lat_flatten.shape, pred_lng_flatten.shape"
   ]
  },
  {
   "cell_type": "code",
   "execution_count": 84,
   "id": "d60ef8e2-d52e-4d12-b89e-14a4ef013637",
   "metadata": {
    "scrolled": true,
    "tags": []
   },
   "outputs": [
    {
     "data": {
      "text/plain": [
       "[(-6.557118892669678, 106.73402404785156),\n",
       " (-6.557116508483887, 106.73402404785156),\n",
       " (-6.557119846343994, 106.73401641845703),\n",
       " (-6.557118892669678, 106.73401641845703),\n",
       " (-6.5571160316467285, 106.73401641845703)]"
      ]
     },
     "execution_count": 84,
     "metadata": {},
     "output_type": "execute_result"
    }
   ],
   "source": [
    "pred_coordinates = list(zip(pred_lat_flatten, pred_lng_flatten))\n",
    "pred_coordinates[:5]"
   ]
  },
  {
   "cell_type": "code",
   "execution_count": 85,
   "id": "8dd2b51c-b834-47d9-a0d5-92860182a84c",
   "metadata": {},
   "outputs": [
    {
     "data": {
      "text/plain": [
       "[(-6.5572132, 106.7339226),\n",
       " (-6.5572133, 106.7339225),\n",
       " (-6.557213099999999, 106.7339224),\n",
       " (-6.557213000000001, 106.7339222),\n",
       " (-6.557212799999999, 106.7339222)]"
      ]
     },
     "execution_count": 85,
     "metadata": {},
     "output_type": "execute_result"
    }
   ],
   "source": [
    "# Actual coordinates\n",
    "actual_coordinates = list(zip(sc_lat.inverse_transform(y_test_lat.values.reshape(-1,1)).reshape(-1), sc_long.inverse_transform(y_test_lng.values.reshape(-1,1)).reshape(-1)))\n",
    "actual_coordinates[:5]"
   ]
  },
  {
   "cell_type": "code",
   "execution_count": 86,
   "id": "7f34f4f3-f40d-47bc-b13c-958cd6a14d9c",
   "metadata": {},
   "outputs": [],
   "source": [
    "def evaluate_haversine(coord1, coord2):\n",
    "    coord1_radians = [radians(_) for _ in coord1]\n",
    "    coord2_radians = [radians(_) for _ in coord2]\n",
    "\n",
    "    result = haversine_distances([coord1_radians, coord2_radians]) * 6371\n",
    "\n",
    "    return result[0][1]"
   ]
  },
  {
   "cell_type": "code",
   "execution_count": 87,
   "id": "628224e9-05cb-4fa8-bf38-15d65ad95d73",
   "metadata": {},
   "outputs": [],
   "source": [
    "distances_pattern1 = []\n",
    "distances_pattern2 = []\n",
    "\n",
    "count = 1\n",
    "for i in range(pred_lng_flatten.shape[0]):\n",
    "    if count <= pred_lat[2].shape[0] + pred_lat[4].shape[0]:\n",
    "        distances_pattern1.append(evaluate_haversine(pred_coordinates[i], actual_coordinates[i]))\n",
    "    else:\n",
    "        distances_pattern2.append(evaluate_haversine(pred_coordinates[i], actual_coordinates[i]))\n",
    "        \n",
    "    count +=1"
   ]
  },
  {
   "cell_type": "code",
   "execution_count": 88,
   "id": "44e6c304-d2a2-4b6f-9d8f-633f0b3e9b8d",
   "metadata": {},
   "outputs": [
    {
     "data": {
      "image/png": "[encoded data removed]",
      "text/plain": [
       "<Figure size 432x288 with 1 Axes>"
      ]
     },
     "metadata": {
      "needs_background": "light"
     },
     "output_type": "display_data"
    },
    {
     "name": "stdout",
     "output_type": "stream",
     "text": [
      "Mean haversine distance: 0.032847670710050146 km\n"
     ]
    }
   ],
   "source": [
    "plt.boxplot(distances_pattern1, vert=False)\n",
    "plt.title(\"Predicted-Actual Haversine Distance (PatternID 1)\")\n",
    "plt.xlabel(\"Distance (km)\")\n",
    "plt.show()\n",
    "print(\"Mean haversine distance: %s km\" % np.mean(distances_pattern1))"
   ]
  },
  {
   "cell_type": "code",
   "execution_count": 89,
   "id": "c925812e-0652-4c6e-b1e7-70253a1f9cb3",
   "metadata": {},
   "outputs": [
    {
     "data": {
      "image/png": "[encoded data removed]",
      "text/plain": [
       "<Figure size 432x288 with 1 Axes>"
      ]
     },
     "metadata": {
      "needs_background": "light"
     },
     "output_type": "display_data"
    },
    {
     "name": "stdout",
     "output_type": "stream",
     "text": [
      "Mean haversine distance: 0.03305111726797992 km\n"
     ]
    }
   ],
   "source": [
    "plt.boxplot(distances_pattern2, vert=False)\n",
    "plt.title(\"Predicted-Actual Haversine Distance (PatternID 2)\")\n",
    "plt.xlabel(\"Distance (km)\")\n",
    "plt.show()\n",
    "print(\"Mean haversine distance: %s km\" % np.mean(distances_pattern2))"
   ]
  },
  {
   "cell_type": "markdown",
   "id": "5e9712d4-03df-41c6-b28d-ed1eb35a975e",
   "metadata": {},
   "source": [
    "### Qualitative Evaluation"
   ]
  },
  {
   "cell_type": "code",
   "execution_count": 90,
   "id": "b807c3f7-dba5-4f61-b0a2-1decb1eb4048",
   "metadata": {
    "scrolled": true,
    "tags": []
   },
   "outputs": [
    {
     "data": {
      "image/png": "[encoded data removed]",
      "text/plain": [
       "<Figure size 432x288 with 1 Axes>"
      ]
     },
     "metadata": {},
     "output_type": "display_data"
    },
    {
     "data": {
      "image/png": "[encoded data removed]",
      "text/plain": [
       "<Figure size 432x288 with 1 Axes>"
      ]
     },
     "metadata": {},
     "output_type": "display_data"
    },
    {
     "data": {
      "image/png": "[encoded data removed]",
      "text/plain": [
       "<Figure size 432x288 with 1 Axes>"
      ]
     },
     "metadata": {},
     "output_type": "display_data"
    },
    {
     "data": {
      "image/png": "[encoded data removed]",
      "text/plain": [
       "<Figure size 432x288 with 1 Axes>"
      ]
     },
     "metadata": {},
     "output_type": "display_data"
    }
   ],
   "source": [
    "# Plot flight prediction\n",
    "for exp_id in pred_lat.index:\n",
    "    plt.subplots()\n",
    "    \n",
    "    plt.plot(pred_lat[exp_id], pred_lng[exp_id])\n",
    "    plt.xticks([], [])\n",
    "    plt.yticks([], [])\n",
    "    \n",
    "    pattern_id = quad_data[quad_data[\"ExpID\"] == exp_id][\"PatternID\"].unique()[0]\n",
    "\n",
    "    plt.title(\"Route flight of \\nPatternID %s, ExpID %s\" % (pattern_id, exp_id))\n",
    "    plt.show()"
   ]
  },
  {
   "cell_type": "code",
   "execution_count": 91,
   "id": "a8900b9c-21ca-4890-a742-40aae9b6fb12",
   "metadata": {},
   "outputs": [
    {
     "data": {
      "image/png": "[encoded data removed]",
      "text/plain": [
       "<Figure size 1080x360 with 1 Axes>"
      ]
     },
     "metadata": {
      "needs_background": "light"
     },
     "output_type": "display_data"
    }
   ],
   "source": [
    "imp_dict = dict(sorted(xgb_lat.get_booster().get_score(importance_type='gain').items(), key=lambda item: item[1]))\n",
    "feat_names = list(imp_dict.keys())\n",
    "importances = list(imp_dict.values())\n",
    "\n",
    "plt.figure(figsize=(15,5))\n",
    "plt.bar(x=feat_names[-10:], height=importances[-10:])\n",
    "plt.title(\"Feature Importance for Latitude Prediction\")\n",
    "plt.show()"
   ]
  },
  {
   "cell_type": "code",
   "execution_count": 92,
   "id": "edfee4e9-bd3e-4ea5-95c4-d80e238c9849",
   "metadata": {},
   "outputs": [
    {
     "data": {
      "image/png": "[encoded data removed]",
      "text/plain": [
       "<Figure size 1080x360 with 1 Axes>"
      ]
     },
     "metadata": {
      "needs_background": "light"
     },
     "output_type": "display_data"
    }
   ],
   "source": [
    "imp_dict = dict(sorted(xgb_lng.get_booster().get_score(importance_type='gain').items(), key=lambda item: item[1]))\n",
    "feat_names = list(imp_dict.keys())\n",
    "importances = list(imp_dict.values())\n",
    "\n",
    "plt.figure(figsize=(15,5))\n",
    "plt.bar(x=feat_names[-10:], height=importances[-10:])\n",
    "plt.title(\"Feature Importance for Longitude Prediction\")\n",
    "plt.show()"
   ]
  },
  {
   "cell_type": "markdown",
   "id": "a79aa126-04e5-4cb8-9de5-dd3bbd0b81ae",
   "metadata": {},
   "source": [
    "### Hyperparameter Tuning"
   ]
  },
  {
   "cell_type": "code",
   "execution_count": 69,
   "id": "016c017e-1645-4dc2-9319-af5893cf05a1",
   "metadata": {
    "scrolled": true,
    "tags": []
   },
   "outputs": [
    {
     "name": "stdout",
     "output_type": "stream",
     "text": [
      "Fitting 5 folds for each of 10 candidates, totalling 50 fits\n",
      "[00:36:25] WARNING: ../src/objective/regression_obj.cu:188: reg:linear is now deprecated in favor of reg:squarederror.\n",
      "[00:36:25] WARNING: ../src/learner.cc:576: \n",
      "Parameters: { \"silent\" } might not be used.\n",
      "\n",
      "  This could be a false alarm, with some parameters getting used by language bindings but\n",
      "  then being mistakenly passed down to XGBoost core, or some parameter actually being used\n",
      "  but getting flagged wrongly here. Please open an issue if you find any such cases.\n",
      "\n",
      "\n"
     ]
    },
    {
     "data": {
      "text/plain": [
       "RandomizedSearchCV(cv=5,\n",
       "                   estimator=XGBRegressor(base_score=None, booster=None,\n",
       "                                          colsample_bylevel=None,\n",
       "                                          colsample_bynode=None,\n",
       "                                          colsample_bytree=None,\n",
       "                                          enable_categorical=False, gamma=None,\n",
       "                                          gpu_id=None, importance_type=None,\n",
       "                                          interaction_constraints=None,\n",
       "                                          learning_rate=None,\n",
       "                                          max_delta_step=None, max_depth=None,\n",
       "                                          min_child_weight=None, missing=nan,\n",
       "                                          monotone_constraints=...\n",
       "                                          reg_alpha=None, reg_lambda=None,\n",
       "                                          scale_pos_weight=None, subsample=None,\n",
       "                                          tree_method=None,\n",
       "                                          validate_parameters=None,\n",
       "                                          verbosity=None),\n",
       "                   n_jobs=-1,\n",
       "                   param_distributions={'colsample_bytree': [0.7, 0.8, 0.9],\n",
       "                                        'learning_rate': [0.01, 0.03, 0.05,\n",
       "                                                          0.07, 0.1],\n",
       "                                        'max_depth': [5, 6, 7],\n",
       "                                        'min_child_weight': [4],\n",
       "                                        'n_estimators': [500],\n",
       "                                        'objective': ['reg:linear'],\n",
       "                                        'silent': [1],\n",
       "                                        'subsample': [0.7, 0.8, 0.9]},\n",
       "                   verbose=5)"
      ]
     },
     "execution_count": 69,
     "metadata": {},
     "output_type": "execute_result"
    }
   ],
   "source": [
    "xgb_tuned_lat = XGBRegressor()\n",
    "parameters = {'objective':['reg:linear'],\n",
    "              'learning_rate': [.01, .03, .05, .07, .1],\n",
    "              'max_depth': [5, 6, 7],\n",
    "              'min_child_weight': [4],\n",
    "              'silent': [1],\n",
    "              'subsample': [.7,.8,.9],\n",
    "              'colsample_bytree': [.7,.8, .9],\n",
    "              'n_estimators': [500]}\n",
    "\n",
    "xgb_grid_lat = RandomizedSearchCV(xgb_tuned_lat, parameters, cv=5, n_jobs=-1, verbose=5)\n",
    "xgb_grid_lat.fit(X_train, y_train_lat)"
   ]
  },
  {
   "cell_type": "code",
   "execution_count": 70,
   "id": "497ae139-d6ed-492b-be15-dbd007e964b6",
   "metadata": {},
   "outputs": [
    {
     "name": "stdout",
     "output_type": "stream",
     "text": [
      "{'subsample': 0.9, 'silent': 1, 'objective': 'reg:linear', 'n_estimators': 500, 'min_child_weight': 4, 'max_depth': 6, 'learning_rate': 0.07, 'colsample_bytree': 0.7}\n",
      "0.47830333298696665\n"
     ]
    }
   ],
   "source": [
    "print(xgb_grid_lat.best_params_)\n",
    "print(xgb_grid_lat.best_score_)"
   ]
  },
  {
   "cell_type": "code",
   "execution_count": 76,
   "id": "c76b28df-f887-43ea-b9b9-2a98c174d46b",
   "metadata": {},
   "outputs": [],
   "source": [
    "pickle.dump(xgb_grid_lat.best_estimator_, open(\"xgb_tuned_lat.pickle\", \"wb\"))"
   ]
  },
  {
   "cell_type": "code",
   "execution_count": 71,
   "id": "a8160e05-9f18-42f8-976c-322a281383b2",
   "metadata": {
    "scrolled": true,
    "tags": []
   },
   "outputs": [
    {
     "name": "stdout",
     "output_type": "stream",
     "text": [
      "Fitting 5 folds for each of 10 candidates, totalling 50 fits\n",
      "[00:39:42] WARNING: ../src/objective/regression_obj.cu:188: reg:linear is now deprecated in favor of reg:squarederror.\n",
      "[00:39:42] WARNING: ../src/learner.cc:576: \n",
      "Parameters: { \"silent\" } might not be used.\n",
      "\n",
      "  This could be a false alarm, with some parameters getting used by language bindings but\n",
      "  then being mistakenly passed down to XGBoost core, or some parameter actually being used\n",
      "  but getting flagged wrongly here. Please open an issue if you find any such cases.\n",
      "\n",
      "\n"
     ]
    },
    {
     "data": {
      "text/plain": [
       "RandomizedSearchCV(cv=5,\n",
       "                   estimator=XGBRegressor(base_score=None, booster=None,\n",
       "                                          colsample_bylevel=None,\n",
       "                                          colsample_bynode=None,\n",
       "                                          colsample_bytree=None,\n",
       "                                          enable_categorical=False, gamma=None,\n",
       "                                          gpu_id=None, importance_type=None,\n",
       "                                          interaction_constraints=None,\n",
       "                                          learning_rate=None,\n",
       "                                          max_delta_step=None, max_depth=None,\n",
       "                                          min_child_weight=None, missing=nan,\n",
       "                                          monotone_constraints=...\n",
       "                                          reg_alpha=None, reg_lambda=None,\n",
       "                                          scale_pos_weight=None, subsample=None,\n",
       "                                          tree_method=None,\n",
       "                                          validate_parameters=None,\n",
       "                                          verbosity=None),\n",
       "                   n_jobs=-1,\n",
       "                   param_distributions={'colsample_bytree': [0.7, 0.8, 0.9],\n",
       "                                        'learning_rate': [0.01, 0.03, 0.05,\n",
       "                                                          0.07, 0.1],\n",
       "                                        'max_depth': [5, 6, 7],\n",
       "                                        'min_child_weight': [4],\n",
       "                                        'n_estimators': [500],\n",
       "                                        'objective': ['reg:linear'],\n",
       "                                        'silent': [1],\n",
       "                                        'subsample': [0.7, 0.8, 0.9]},\n",
       "                   verbose=5)"
      ]
     },
     "execution_count": 71,
     "metadata": {},
     "output_type": "execute_result"
    }
   ],
   "source": [
    "xgb_tuned_lng = XGBRegressor()\n",
    "parameters = {'objective':['reg:linear'],\n",
    "              'learning_rate': [.01, .03, .05, .07, .1],\n",
    "              'max_depth': [5, 6, 7],\n",
    "              'min_child_weight': [4],\n",
    "              'silent': [1],\n",
    "              'subsample': [.7,.8,.9],\n",
    "              'colsample_bytree': [.7,.8, .9],\n",
    "              'n_estimators': [500]}\n",
    "\n",
    "xgb_grid_lng = RandomizedSearchCV(xgb_tuned_lng, parameters, cv=5, n_jobs=-1, verbose=5)\n",
    "xgb_grid_lng.fit(X_train, y_train_lng)"
   ]
  },
  {
   "cell_type": "code",
   "execution_count": 72,
   "id": "c113f74d-69b9-46f6-8302-398df7af0e79",
   "metadata": {
    "scrolled": true,
    "tags": []
   },
   "outputs": [
    {
     "name": "stdout",
     "output_type": "stream",
     "text": [
      "{'subsample': 0.9, 'silent': 1, 'objective': 'reg:linear', 'n_estimators': 500, 'min_child_weight': 4, 'max_depth': 5, 'learning_rate': 0.07, 'colsample_bytree': 0.9}\n",
      "0.7378125855336737\n",
      "[00:32:52] WARNING: ../src/objective/regression_obj.cu:188: reg:linear is now deprecated in favor of reg:squarederror.\n",
      "[00:32:52] WARNING: ../src/learner.cc:576: \n",
      "Parameters: { \"silent\" } might not be used.\n",
      "\n",
      "  This could be a false alarm, with some parameters getting used by language bindings but\n",
      "  then being mistakenly passed down to XGBoost core, or some parameter actually being used\n",
      "  but getting flagged wrongly here. Please open an issue if you find any such cases.\n",
      "\n",
      "\n",
      "[CV 1/5] END colsample_bytree=0.8, learning_rate=0.01, max_depth=7, min_child_weight=4, n_estimators=500, objective=reg:linear, silent=1, subsample=0.8;, score=0.524 total time= 1.8min\n",
      "[00:34:42] WARNING: ../src/objective/regression_obj.cu:188: reg:linear is now deprecated in favor of reg:squarederror.\n",
      "[00:34:42] WARNING: ../src/learner.cc:576: \n",
      "Parameters: { \"silent\" } might not be used.\n",
      "\n",
      "  This could be a false alarm, with some parameters getting used by language bindings but\n",
      "  then being mistakenly passed down to XGBoost core, or some parameter actually being used\n",
      "  but getting flagged wrongly here. Please open an issue if you find any such cases.\n",
      "\n",
      "\n",
      "[CV 4/5] END colsample_bytree=0.8, learning_rate=0.03, max_depth=7, min_child_weight=4, n_estimators=500, objective=reg:linear, silent=1, subsample=0.9;, score=0.471 total time= 1.5min\n",
      "[00:36:27] WARNING: ../src/objective/regression_obj.cu:188: reg:linear is now deprecated in favor of reg:squarederror.\n",
      "[00:36:27] WARNING: ../src/learner.cc:576: \n",
      "Parameters: { \"silent\" } might not be used.\n",
      "\n",
      "  This could be a false alarm, with some parameters getting used by language bindings but\n",
      "  then being mistakenly passed down to XGBoost core, or some parameter actually being used\n",
      "  but getting flagged wrongly here. Please open an issue if you find any such cases.\n",
      "\n",
      "\n",
      "[CV 5/5] END colsample_bytree=0.7, learning_rate=0.01, max_depth=6, min_child_weight=4, n_estimators=500, objective=reg:linear, silent=1, subsample=0.7;, score=0.740 total time= 1.2min\n",
      "[00:37:41] WARNING: ../src/objective/regression_obj.cu:188: reg:linear is now deprecated in favor of reg:squarederror.\n",
      "[00:37:41] WARNING: ../src/learner.cc:576: \n",
      "Parameters: { \"silent\" } might not be used.\n",
      "\n",
      "  This could be a false alarm, with some parameters getting used by language bindings but\n",
      "  then being mistakenly passed down to XGBoost core, or some parameter actually being used\n",
      "  but getting flagged wrongly here. Please open an issue if you find any such cases.\n",
      "\n",
      "\n",
      "[CV 3/5] END colsample_bytree=0.9, learning_rate=0.07, max_depth=7, min_child_weight=4, n_estimators=500, objective=reg:linear, silent=1, subsample=0.8;, score=0.721 total time= 1.6min\n",
      "[00:32:52] WARNING: ../src/objective/regression_obj.cu:188: reg:linear is now deprecated in favor of reg:squarederror.\n",
      "[00:32:52] WARNING: ../src/learner.cc:576: \n",
      "Parameters: { \"silent\" } might not be used.\n",
      "\n",
      "  This could be a false alarm, with some parameters getting used by language bindings but\n",
      "  then being mistakenly passed down to XGBoost core, or some parameter actually being used\n",
      "  but getting flagged wrongly here. Please open an issue if you find any such cases.\n",
      "\n",
      "\n",
      "[CV 5/5] END colsample_bytree=0.8, learning_rate=0.01, max_depth=7, min_child_weight=4, n_estimators=500, objective=reg:linear, silent=1, subsample=0.8;, score=-0.031 total time= 1.8min\n",
      "[00:34:38] WARNING: ../src/objective/regression_obj.cu:188: reg:linear is now deprecated in favor of reg:squarederror.\n",
      "[00:34:38] WARNING: ../src/learner.cc:576: \n",
      "Parameters: { \"silent\" } might not be used.\n",
      "\n",
      "  This could be a false alarm, with some parameters getting used by language bindings but\n",
      "  then being mistakenly passed down to XGBoost core, or some parameter actually being used\n",
      "  but getting flagged wrongly here. Please open an issue if you find any such cases.\n",
      "\n",
      "\n",
      "[CV 2/5] END colsample_bytree=0.8, learning_rate=0.03, max_depth=7, min_child_weight=4, n_estimators=500, objective=reg:linear, silent=1, subsample=0.9;, score=0.682 total time= 1.5min\n",
      "[00:36:27] WARNING: ../src/objective/regression_obj.cu:188: reg:linear is now deprecated in favor of reg:squarederror.\n",
      "[00:36:27] WARNING: ../src/learner.cc:576: \n",
      "Parameters: { \"silent\" } might not be used.\n",
      "\n",
      "  This could be a false alarm, with some parameters getting used by language bindings but\n",
      "  then being mistakenly passed down to XGBoost core, or some parameter actually being used\n",
      "  but getting flagged wrongly here. Please open an issue if you find any such cases.\n",
      "\n",
      "\n",
      "[CV 1/5] END colsample_bytree=0.7, learning_rate=0.01, max_depth=6, min_child_weight=4, n_estimators=500, objective=reg:linear, silent=1, subsample=0.7;, score=0.651 total time= 1.2min\n",
      "[00:37:43] WARNING: ../src/objective/regression_obj.cu:188: reg:linear is now deprecated in favor of reg:squarederror.\n",
      "[00:37:43] WARNING: ../src/learner.cc:576: \n",
      "Parameters: { \"silent\" } might not be used.\n",
      "\n",
      "  This could be a false alarm, with some parameters getting used by language bindings but\n",
      "  then being mistakenly passed down to XGBoost core, or some parameter actually being used\n",
      "  but getting flagged wrongly here. Please open an issue if you find any such cases.\n",
      "\n",
      "\n",
      "[CV 5/5] END colsample_bytree=0.9, learning_rate=0.07, max_depth=7, min_child_weight=4, n_estimators=500, objective=reg:linear, silent=1, subsample=0.8;, score=0.710 total time= 1.6min\n",
      "[00:32:52] WARNING: ../src/objective/regression_obj.cu:188: reg:linear is now deprecated in favor of reg:squarederror.\n",
      "[00:32:52] WARNING: ../src/learner.cc:576: \n",
      "Parameters: { \"silent\" } might not be used.\n",
      "\n",
      "  This could be a false alarm, with some parameters getting used by language bindings but\n",
      "  then being mistakenly passed down to XGBoost core, or some parameter actually being used\n",
      "  but getting flagged wrongly here. Please open an issue if you find any such cases.\n",
      "\n",
      "\n",
      "[CV 3/5] END colsample_bytree=0.8, learning_rate=0.01, max_depth=7, min_child_weight=4, n_estimators=500, objective=reg:linear, silent=1, subsample=0.8;, score=0.607 total time= 1.8min\n",
      "[00:34:38] WARNING: ../src/objective/regression_obj.cu:188: reg:linear is now deprecated in favor of reg:squarederror.\n",
      "[00:34:38] WARNING: ../src/learner.cc:576: \n",
      "Parameters: { \"silent\" } might not be used.\n",
      "\n",
      "  This could be a false alarm, with some parameters getting used by language bindings but\n",
      "  then being mistakenly passed down to XGBoost core, or some parameter actually being used\n",
      "  but getting flagged wrongly here. Please open an issue if you find any such cases.\n",
      "\n",
      "\n",
      "[CV 1/5] END colsample_bytree=0.8, learning_rate=0.03, max_depth=7, min_child_weight=4, n_estimators=500, objective=reg:linear, silent=1, subsample=0.9;, score=0.512 total time= 1.5min\n",
      "[00:36:27] WARNING: ../src/objective/regression_obj.cu:188: reg:linear is now deprecated in favor of reg:squarederror.\n",
      "[00:36:27] WARNING: ../src/learner.cc:576: \n",
      "Parameters: { \"silent\" } might not be used.\n",
      "\n",
      "  This could be a false alarm, with some parameters getting used by language bindings but\n",
      "  then being mistakenly passed down to XGBoost core, or some parameter actually being used\n",
      "  but getting flagged wrongly here. Please open an issue if you find any such cases.\n",
      "\n",
      "\n",
      "[CV 2/5] END colsample_bytree=0.7, learning_rate=0.01, max_depth=6, min_child_weight=4, n_estimators=500, objective=reg:linear, silent=1, subsample=0.7;, score=0.852 total time= 1.2min\n",
      "[00:37:41] WARNING: ../src/objective/regression_obj.cu:188: reg:linear is now deprecated in favor of reg:squarederror.\n",
      "[00:37:41] WARNING: ../src/learner.cc:576: \n",
      "Parameters: { \"silent\" } might not be used.\n",
      "\n",
      "  This could be a false alarm, with some parameters getting used by language bindings but\n",
      "  then being mistakenly passed down to XGBoost core, or some parameter actually being used\n",
      "  but getting flagged wrongly here. Please open an issue if you find any such cases.\n",
      "\n",
      "\n",
      "[CV 2/5] END colsample_bytree=0.9, learning_rate=0.07, max_depth=7, min_child_weight=4, n_estimators=500, objective=reg:linear, silent=1, subsample=0.8;, score=0.894 total time= 1.6min\n",
      "[00:32:52] WARNING: ../src/objective/regression_obj.cu:188: reg:linear is now deprecated in favor of reg:squarederror.\n",
      "[00:32:52] WARNING: ../src/learner.cc:576: \n",
      "Parameters: { \"silent\" } might not be used.\n",
      "\n",
      "  This could be a false alarm, with some parameters getting used by language bindings but\n",
      "  then being mistakenly passed down to XGBoost core, or some parameter actually being used\n",
      "  but getting flagged wrongly here. Please open an issue if you find any such cases.\n",
      "\n",
      "\n",
      "[CV 5/5] END colsample_bytree=0.9, learning_rate=0.1, max_depth=6, min_child_weight=4, n_estimators=500, objective=reg:linear, silent=1, subsample=0.7;, score=-0.163 total time= 1.4min\n",
      "[00:34:17] WARNING: ../src/objective/regression_obj.cu:188: reg:linear is now deprecated in favor of reg:squarederror.\n",
      "[00:34:17] WARNING: ../src/learner.cc:576: \n",
      "Parameters: { \"silent\" } might not be used.\n",
      "\n",
      "  This could be a false alarm, with some parameters getting used by language bindings but\n",
      "  then being mistakenly passed down to XGBoost core, or some parameter actually being used\n",
      "  but getting flagged wrongly here. Please open an issue if you find any such cases.\n",
      "\n",
      "\n",
      "[CV 4/5] END colsample_bytree=0.7, learning_rate=0.07, max_depth=6, min_child_weight=4, n_estimators=500, objective=reg:linear, silent=1, subsample=0.9;, score=0.451 total time= 1.2min\n",
      "[00:35:30] WARNING: ../src/objective/regression_obj.cu:188: reg:linear is now deprecated in favor of reg:squarederror.\n",
      "[00:35:30] WARNING: ../src/learner.cc:576: \n",
      "Parameters: { \"silent\" } might not be used.\n",
      "\n",
      "  This could be a false alarm, with some parameters getting used by language bindings but\n",
      "  then being mistakenly passed down to XGBoost core, or some parameter actually being used\n",
      "  but getting flagged wrongly here. Please open an issue if you find any such cases.\n",
      "\n",
      "\n",
      "[CV 2/5] END colsample_bytree=0.9, learning_rate=0.01, max_depth=7, min_child_weight=4, n_estimators=500, objective=reg:linear, silent=1, subsample=0.7;, score=0.706 total time=  54.0s\n",
      "[00:36:27] WARNING: ../src/objective/regression_obj.cu:188: reg:linear is now deprecated in favor of reg:squarederror.\n",
      "[00:36:27] WARNING: ../src/learner.cc:576: \n",
      "Parameters: { \"silent\" } might not be used.\n",
      "\n",
      "  This could be a false alarm, with some parameters getting used by language bindings but\n",
      "  then being mistakenly passed down to XGBoost core, or some parameter actually being used\n",
      "  but getting flagged wrongly here. Please open an issue if you find any such cases.\n",
      "\n",
      "\n",
      "[CV 1/5] END colsample_bytree=0.7, learning_rate=0.1, max_depth=6, min_child_weight=4, n_estimators=500, objective=reg:linear, silent=1, subsample=0.9;, score=0.565 total time= 1.3min\n",
      "[00:37:44] WARNING: ../src/objective/regression_obj.cu:188: reg:linear is now deprecated in favor of reg:squarederror.\n",
      "[00:37:44] WARNING: ../src/learner.cc:576: \n",
      "Parameters: { \"silent\" } might not be used.\n",
      "\n",
      "  This could be a false alarm, with some parameters getting used by language bindings but\n",
      "  then being mistakenly passed down to XGBoost core, or some parameter actually being used\n",
      "  but getting flagged wrongly here. Please open an issue if you find any such cases.\n",
      "\n",
      "\n",
      "[CV 1/5] END colsample_bytree=0.9, learning_rate=0.05, max_depth=7, min_child_weight=4, n_estimators=500, objective=reg:linear, silent=1, subsample=0.9;, score=0.677 total time= 1.6min\n",
      "[00:32:52] WARNING: ../src/objective/regression_obj.cu:188: reg:linear is now deprecated in favor of reg:squarederror.\n",
      "[00:32:52] WARNING: ../src/learner.cc:576: \n",
      "Parameters: { \"silent\" } might not be used.\n",
      "\n",
      "  This could be a false alarm, with some parameters getting used by language bindings but\n",
      "  then being mistakenly passed down to XGBoost core, or some parameter actually being used\n",
      "  but getting flagged wrongly here. Please open an issue if you find any such cases.\n",
      "\n",
      "\n",
      "[CV 3/5] END colsample_bytree=0.9, learning_rate=0.07, max_depth=5, min_child_weight=4, n_estimators=500, objective=reg:linear, silent=1, subsample=0.8;, score=0.590 total time= 1.2min\n",
      "[00:34:02] WARNING: ../src/objective/regression_obj.cu:188: reg:linear is now deprecated in favor of reg:squarederror.\n",
      "[00:34:02] WARNING: ../src/learner.cc:576: \n",
      "Parameters: { \"silent\" } might not be used.\n",
      "\n",
      "  This could be a false alarm, with some parameters getting used by language bindings but\n",
      "  then being mistakenly passed down to XGBoost core, or some parameter actually being used\n",
      "  but getting flagged wrongly here. Please open an issue if you find any such cases.\n",
      "\n",
      "\n",
      "[CV 5/5] END colsample_bytree=0.8, learning_rate=0.07, max_depth=5, min_child_weight=4, n_estimators=500, objective=reg:linear, silent=1, subsample=0.9;, score=0.200 total time= 1.1min\n",
      "[00:35:09] WARNING: ../src/objective/regression_obj.cu:188: reg:linear is now deprecated in favor of reg:squarederror.\n",
      "[00:35:09] WARNING: ../src/learner.cc:576: \n",
      "Parameters: { \"silent\" } might not be used.\n",
      "\n",
      "  This could be a false alarm, with some parameters getting used by language bindings but\n",
      "  then being mistakenly passed down to XGBoost core, or some parameter actually being used\n",
      "  but getting flagged wrongly here. Please open an issue if you find any such cases.\n",
      "\n",
      "\n",
      "[CV 4/5] END colsample_bytree=0.9, learning_rate=0.01, max_depth=6, min_child_weight=4, n_estimators=500, objective=reg:linear, silent=1, subsample=0.8;, score=0.440 total time= 1.1min\n",
      "[00:36:27] WARNING: ../src/objective/regression_obj.cu:188: reg:linear is now deprecated in favor of reg:squarederror.\n",
      "[00:36:27] WARNING: ../src/learner.cc:576: \n",
      "Parameters: { \"silent\" } might not be used.\n",
      "\n",
      "  This could be a false alarm, with some parameters getting used by language bindings but\n",
      "  then being mistakenly passed down to XGBoost core, or some parameter actually being used\n",
      "  but getting flagged wrongly here. Please open an issue if you find any such cases.\n",
      "\n",
      "\n",
      "[CV 5/5] END colsample_bytree=0.8, learning_rate=0.03, max_depth=6, min_child_weight=4, n_estimators=500, objective=reg:linear, silent=1, subsample=0.9;, score=0.744 total time= 1.2min\n",
      "[00:37:41] WARNING: ../src/objective/regression_obj.cu:188: reg:linear is now deprecated in favor of reg:squarederror.\n",
      "[00:37:41] WARNING: ../src/learner.cc:576: \n",
      "Parameters: { \"silent\" } might not be used.\n",
      "\n",
      "  This could be a false alarm, with some parameters getting used by language bindings but\n",
      "  then being mistakenly passed down to XGBoost core, or some parameter actually being used\n",
      "  but getting flagged wrongly here. Please open an issue if you find any such cases.\n",
      "\n",
      "\n",
      "[CV 1/5] END colsample_bytree=0.9, learning_rate=0.07, max_depth=7, min_child_weight=4, n_estimators=500, objective=reg:linear, silent=1, subsample=0.8;, score=0.693 total time= 1.7min\n",
      "[00:32:52] WARNING: ../src/objective/regression_obj.cu:188: reg:linear is now deprecated in favor of reg:squarederror.\n",
      "[00:32:52] WARNING: ../src/learner.cc:576: \n",
      "Parameters: { \"silent\" } might not be used.\n",
      "\n",
      "  This could be a false alarm, with some parameters getting used by language bindings but\n",
      "  then being mistakenly passed down to XGBoost core, or some parameter actually being used\n",
      "  but getting flagged wrongly here. Please open an issue if you find any such cases.\n",
      "\n",
      "\n",
      "[CV 4/5] END colsample_bytree=0.8, learning_rate=0.01, max_depth=7, min_child_weight=4, n_estimators=500, objective=reg:linear, silent=1, subsample=0.8;, score=0.474 total time= 1.8min\n",
      "[00:34:43] WARNING: ../src/objective/regression_obj.cu:188: reg:linear is now deprecated in favor of reg:squarederror.\n",
      "[00:34:43] WARNING: ../src/learner.cc:576: \n",
      "Parameters: { \"silent\" } might not be used.\n",
      "\n",
      "  This could be a false alarm, with some parameters getting used by language bindings but\n",
      "  then being mistakenly passed down to XGBoost core, or some parameter actually being used\n",
      "  but getting flagged wrongly here. Please open an issue if you find any such cases.\n",
      "\n",
      "\n",
      "[CV 5/5] END colsample_bytree=0.8, learning_rate=0.03, max_depth=7, min_child_weight=4, n_estimators=500, objective=reg:linear, silent=1, subsample=0.9;, score=-0.010 total time= 1.4min\n",
      "[00:36:27] WARNING: ../src/objective/regression_obj.cu:188: reg:linear is now deprecated in favor of reg:squarederror.\n",
      "[00:36:27] WARNING: ../src/learner.cc:576: \n",
      "Parameters: { \"silent\" } might not be used.\n",
      "\n",
      "  This could be a false alarm, with some parameters getting used by language bindings but\n",
      "  then being mistakenly passed down to XGBoost core, or some parameter actually being used\n",
      "  but getting flagged wrongly here. Please open an issue if you find any such cases.\n",
      "\n",
      "\n",
      "[CV 3/5] END colsample_bytree=0.7, learning_rate=0.01, max_depth=6, min_child_weight=4, n_estimators=500, objective=reg:linear, silent=1, subsample=0.7;, score=0.750 total time= 1.2min\n",
      "[00:37:42] WARNING: ../src/objective/regression_obj.cu:188: reg:linear is now deprecated in favor of reg:squarederror.\n",
      "[00:37:42] WARNING: ../src/learner.cc:576: \n",
      "Parameters: { \"silent\" } might not be used.\n",
      "\n",
      "  This could be a false alarm, with some parameters getting used by language bindings but\n",
      "  then being mistakenly passed down to XGBoost core, or some parameter actually being used\n",
      "  but getting flagged wrongly here. Please open an issue if you find any such cases.\n",
      "\n",
      "\n",
      "[CV 4/5] END colsample_bytree=0.9, learning_rate=0.07, max_depth=7, min_child_weight=4, n_estimators=500, objective=reg:linear, silent=1, subsample=0.8;, score=0.582 total time= 1.7min\n",
      "[00:32:52] WARNING: ../src/objective/regression_obj.cu:188: reg:linear is now deprecated in favor of reg:squarederror.\n",
      "[00:32:52] WARNING: ../src/learner.cc:576: \n",
      "Parameters: { \"silent\" } might not be used.\n",
      "\n",
      "  This could be a false alarm, with some parameters getting used by language bindings but\n",
      "  then being mistakenly passed down to XGBoost core, or some parameter actually being used\n",
      "  but getting flagged wrongly here. Please open an issue if you find any such cases.\n",
      "\n",
      "\n",
      "[CV 1/5] END colsample_bytree=0.9, learning_rate=0.07, max_depth=5, min_child_weight=4, n_estimators=500, objective=reg:linear, silent=1, subsample=0.8;, score=0.420 total time= 1.1min\n",
      "[00:34:00] WARNING: ../src/objective/regression_obj.cu:188: reg:linear is now deprecated in favor of reg:squarederror.\n",
      "[00:34:00] WARNING: ../src/learner.cc:576: \n",
      "Parameters: { \"silent\" } might not be used.\n",
      "\n",
      "  This could be a false alarm, with some parameters getting used by language bindings but\n",
      "  then being mistakenly passed down to XGBoost core, or some parameter actually being used\n",
      "  but getting flagged wrongly here. Please open an issue if you find any such cases.\n",
      "\n",
      "\n",
      "[CV 1/5] END colsample_bytree=0.8, learning_rate=0.07, max_depth=5, min_child_weight=4, n_estimators=500, objective=reg:linear, silent=1, subsample=0.9;, score=0.414 total time= 1.0min\n",
      "[00:35:04] WARNING: ../src/objective/regression_obj.cu:188: reg:linear is now deprecated in favor of reg:squarederror.\n",
      "[00:35:04] WARNING: ../src/learner.cc:576: \n",
      "Parameters: { \"silent\" } might not be used.\n",
      "\n",
      "  This could be a false alarm, with some parameters getting used by language bindings but\n",
      "  then being mistakenly passed down to XGBoost core, or some parameter actually being used\n",
      "  but getting flagged wrongly here. Please open an issue if you find any such cases.\n",
      "\n",
      "\n",
      "[CV 1/5] END colsample_bytree=0.9, learning_rate=0.01, max_depth=6, min_child_weight=4, n_estimators=500, objective=reg:linear, silent=1, subsample=0.8;, score=0.489 total time= 1.2min\n",
      "[00:36:27] WARNING: ../src/objective/regression_obj.cu:188: reg:linear is now deprecated in favor of reg:squarederror.\n",
      "[00:36:27] WARNING: ../src/learner.cc:576: \n",
      "Parameters: { \"silent\" } might not be used.\n",
      "\n",
      "  This could be a false alarm, with some parameters getting used by language bindings but\n",
      "  then being mistakenly passed down to XGBoost core, or some parameter actually being used\n",
      "  but getting flagged wrongly here. Please open an issue if you find any such cases.\n",
      "\n",
      "\n",
      "[CV 2/5] END colsample_bytree=0.8, learning_rate=0.03, max_depth=6, min_child_weight=4, n_estimators=500, objective=reg:linear, silent=1, subsample=0.9;, score=0.883 total time= 1.3min\n",
      "[00:37:46] WARNING: ../src/objective/regression_obj.cu:188: reg:linear is now deprecated in favor of reg:squarederror.\n",
      "[00:37:46] WARNING: ../src/learner.cc:576: \n",
      "Parameters: { \"silent\" } might not be used.\n",
      "\n",
      "  This could be a false alarm, with some parameters getting used by language bindings but\n",
      "  then being mistakenly passed down to XGBoost core, or some parameter actually being used\n",
      "  but getting flagged wrongly here. Please open an issue if you find any such cases.\n",
      "\n",
      "\n",
      "[CV 5/5] END colsample_bytree=0.9, learning_rate=0.05, max_depth=7, min_child_weight=4, n_estimators=500, objective=reg:linear, silent=1, subsample=0.9;, score=0.716 total time= 1.6min\n",
      "[00:32:52] WARNING: ../src/objective/regression_obj.cu:188: reg:linear is now deprecated in favor of reg:squarederror.\n",
      "[00:32:52] WARNING: ../src/learner.cc:576: \n",
      "Parameters: { \"silent\" } might not be used.\n",
      "\n",
      "  This could be a false alarm, with some parameters getting used by language bindings but\n",
      "  then being mistakenly passed down to XGBoost core, or some parameter actually being used\n",
      "  but getting flagged wrongly here. Please open an issue if you find any such cases.\n",
      "\n",
      "\n",
      "[CV 2/5] END colsample_bytree=0.9, learning_rate=0.07, max_depth=5, min_child_weight=4, n_estimators=500, objective=reg:linear, silent=1, subsample=0.8;, score=0.681 total time= 1.2min\n",
      "[00:34:02] WARNING: ../src/objective/regression_obj.cu:188: reg:linear is now deprecated in favor of reg:squarederror.\n",
      "[00:34:02] WARNING: ../src/learner.cc:576: \n",
      "Parameters: { \"silent\" } might not be used.\n",
      "\n",
      "  This could be a false alarm, with some parameters getting used by language bindings but\n",
      "  then being mistakenly passed down to XGBoost core, or some parameter actually being used\n",
      "  but getting flagged wrongly here. Please open an issue if you find any such cases.\n",
      "\n",
      "\n",
      "[CV 4/5] END colsample_bytree=0.8, learning_rate=0.07, max_depth=5, min_child_weight=4, n_estimators=500, objective=reg:linear, silent=1, subsample=0.9;, score=0.446 total time= 1.1min\n",
      "[00:35:07] WARNING: ../src/objective/regression_obj.cu:188: reg:linear is now deprecated in favor of reg:squarederror.\n",
      "[00:35:07] WARNING: ../src/learner.cc:576: \n",
      "Parameters: { \"silent\" } might not be used.\n",
      "\n",
      "  This could be a false alarm, with some parameters getting used by language bindings but\n",
      "  then being mistakenly passed down to XGBoost core, or some parameter actually being used\n",
      "  but getting flagged wrongly here. Please open an issue if you find any such cases.\n",
      "\n",
      "\n",
      "[CV 2/5] END colsample_bytree=0.9, learning_rate=0.01, max_depth=6, min_child_weight=4, n_estimators=500, objective=reg:linear, silent=1, subsample=0.8;, score=0.717 total time= 1.1min\n",
      "[00:36:27] WARNING: ../src/objective/regression_obj.cu:188: reg:linear is now deprecated in favor of reg:squarederror.\n",
      "[00:36:27] WARNING: ../src/learner.cc:576: \n",
      "Parameters: { \"silent\" } might not be used.\n",
      "\n",
      "  This could be a false alarm, with some parameters getting used by language bindings but\n",
      "  then being mistakenly passed down to XGBoost core, or some parameter actually being used\n",
      "  but getting flagged wrongly here. Please open an issue if you find any such cases.\n",
      "\n",
      "\n",
      "[CV 1/5] END colsample_bytree=0.8, learning_rate=0.03, max_depth=6, min_child_weight=4, n_estimators=500, objective=reg:linear, silent=1, subsample=0.9;, score=0.707 total time= 1.3min\n",
      "[00:37:44] WARNING: ../src/objective/regression_obj.cu:188: reg:linear is now deprecated in favor of reg:squarederror.\n",
      "[00:37:44] WARNING: ../src/learner.cc:576: \n",
      "Parameters: { \"silent\" } might not be used.\n",
      "\n",
      "  This could be a false alarm, with some parameters getting used by language bindings but\n",
      "  then being mistakenly passed down to XGBoost core, or some parameter actually being used\n",
      "  but getting flagged wrongly here. Please open an issue if you find any such cases.\n",
      "\n",
      "\n",
      "[CV 2/5] END colsample_bytree=0.9, learning_rate=0.05, max_depth=7, min_child_weight=4, n_estimators=500, objective=reg:linear, silent=1, subsample=0.9;, score=0.884 total time= 1.7min\n",
      "[00:32:52] WARNING: ../src/objective/regression_obj.cu:188: reg:linear is now deprecated in favor of reg:squarederror.\n",
      "[00:32:52] WARNING: ../src/learner.cc:576: \n",
      "Parameters: { \"silent\" } might not be used.\n",
      "\n",
      "  This could be a false alarm, with some parameters getting used by language bindings but\n",
      "  then being mistakenly passed down to XGBoost core, or some parameter actually being used\n",
      "  but getting flagged wrongly here. Please open an issue if you find any such cases.\n",
      "\n",
      "\n",
      "[CV 4/5] END colsample_bytree=0.9, learning_rate=0.07, max_depth=5, min_child_weight=4, n_estimators=500, objective=reg:linear, silent=1, subsample=0.8;, score=0.355 total time= 1.1min\n",
      "[00:34:01] WARNING: ../src/objective/regression_obj.cu:188: reg:linear is now deprecated in favor of reg:squarederror.\n",
      "[00:34:01] WARNING: ../src/learner.cc:576: \n",
      "Parameters: { \"silent\" } might not be used.\n",
      "\n",
      "  This could be a false alarm, with some parameters getting used by language bindings but\n",
      "  then being mistakenly passed down to XGBoost core, or some parameter actually being used\n",
      "  but getting flagged wrongly here. Please open an issue if you find any such cases.\n",
      "\n",
      "\n",
      "[CV 2/5] END colsample_bytree=0.8, learning_rate=0.07, max_depth=5, min_child_weight=4, n_estimators=500, objective=reg:linear, silent=1, subsample=0.9;, score=0.663 total time= 1.1min\n",
      "[00:35:07] WARNING: ../src/objective/regression_obj.cu:188: reg:linear is now deprecated in favor of reg:squarederror.\n",
      "[00:35:07] WARNING: ../src/learner.cc:576: \n",
      "Parameters: { \"silent\" } might not be used.\n",
      "\n",
      "  This could be a false alarm, with some parameters getting used by language bindings but\n",
      "  then being mistakenly passed down to XGBoost core, or some parameter actually being used\n",
      "  but getting flagged wrongly here. Please open an issue if you find any such cases.\n",
      "\n",
      "\n",
      "[CV 3/5] END colsample_bytree=0.9, learning_rate=0.01, max_depth=6, min_child_weight=4, n_estimators=500, objective=reg:linear, silent=1, subsample=0.8;, score=0.609 total time= 1.2min\n",
      "[00:36:27] WARNING: ../src/objective/regression_obj.cu:188: reg:linear is now deprecated in favor of reg:squarederror.\n",
      "[00:36:27] WARNING: ../src/learner.cc:576: \n",
      "Parameters: { \"silent\" } might not be used.\n",
      "\n",
      "  This could be a false alarm, with some parameters getting used by language bindings but\n",
      "  then being mistakenly passed down to XGBoost core, or some parameter actually being used\n",
      "  but getting flagged wrongly here. Please open an issue if you find any such cases.\n",
      "\n",
      "\n",
      "[CV 3/5] END colsample_bytree=0.8, learning_rate=0.03, max_depth=6, min_child_weight=4, n_estimators=500, objective=reg:linear, silent=1, subsample=0.9;, score=0.723 total time= 1.3min\n",
      "[00:37:45] WARNING: ../src/objective/regression_obj.cu:188: reg:linear is now deprecated in favor of reg:squarederror.\n",
      "[00:37:45] WARNING: ../src/learner.cc:576: \n",
      "Parameters: { \"silent\" } might not be used.\n",
      "\n",
      "  This could be a false alarm, with some parameters getting used by language bindings but\n",
      "  then being mistakenly passed down to XGBoost core, or some parameter actually being used\n",
      "  but getting flagged wrongly here. Please open an issue if you find any such cases.\n",
      "\n",
      "\n",
      "[CV 3/5] END colsample_bytree=0.9, learning_rate=0.05, max_depth=7, min_child_weight=4, n_estimators=500, objective=reg:linear, silent=1, subsample=0.9;, score=0.709 total time= 1.6min\n",
      "[00:32:52] WARNING: ../src/objective/regression_obj.cu:188: reg:linear is now deprecated in favor of reg:squarederror.\n",
      "[00:32:52] WARNING: ../src/learner.cc:576: \n",
      "Parameters: { \"silent\" } might not be used.\n",
      "\n",
      "  This could be a false alarm, with some parameters getting used by language bindings but\n",
      "  then being mistakenly passed down to XGBoost core, or some parameter actually being used\n",
      "  but getting flagged wrongly here. Please open an issue if you find any such cases.\n",
      "\n",
      "\n",
      "[CV 5/5] END colsample_bytree=0.9, learning_rate=0.07, max_depth=5, min_child_weight=4, n_estimators=500, objective=reg:linear, silent=1, subsample=0.8;, score=-0.009 total time= 1.2min\n",
      "[00:34:01] WARNING: ../src/objective/regression_obj.cu:188: reg:linear is now deprecated in favor of reg:squarederror.\n",
      "[00:34:01] WARNING: ../src/learner.cc:576: \n",
      "Parameters: { \"silent\" } might not be used.\n",
      "\n",
      "  This could be a false alarm, with some parameters getting used by language bindings but\n",
      "  then being mistakenly passed down to XGBoost core, or some parameter actually being used\n",
      "  but getting flagged wrongly here. Please open an issue if you find any such cases.\n",
      "\n",
      "\n",
      "[CV 3/5] END colsample_bytree=0.8, learning_rate=0.07, max_depth=5, min_child_weight=4, n_estimators=500, objective=reg:linear, silent=1, subsample=0.9;, score=0.608 total time= 1.1min\n",
      "[00:35:10] WARNING: ../src/objective/regression_obj.cu:188: reg:linear is now deprecated in favor of reg:squarederror.\n",
      "[00:35:10] WARNING: ../src/learner.cc:576: \n",
      "Parameters: { \"silent\" } might not be used.\n",
      "\n",
      "  This could be a false alarm, with some parameters getting used by language bindings but\n",
      "  then being mistakenly passed down to XGBoost core, or some parameter actually being used\n",
      "  but getting flagged wrongly here. Please open an issue if you find any such cases.\n",
      "\n",
      "\n",
      "[CV 5/5] END colsample_bytree=0.9, learning_rate=0.01, max_depth=6, min_child_weight=4, n_estimators=500, objective=reg:linear, silent=1, subsample=0.8;, score=-0.137 total time= 1.1min\n",
      "[00:36:27] WARNING: ../src/objective/regression_obj.cu:188: reg:linear is now deprecated in favor of reg:squarederror.\n",
      "[00:36:27] WARNING: ../src/learner.cc:576: \n",
      "Parameters: { \"silent\" } might not be used.\n",
      "\n",
      "  This could be a false alarm, with some parameters getting used by language bindings but\n",
      "  then being mistakenly passed down to XGBoost core, or some parameter actually being used\n",
      "  but getting flagged wrongly here. Please open an issue if you find any such cases.\n",
      "\n",
      "\n",
      "[CV 4/5] END colsample_bytree=0.8, learning_rate=0.03, max_depth=6, min_child_weight=4, n_estimators=500, objective=reg:linear, silent=1, subsample=0.9;, score=0.610 total time= 1.3min\n",
      "[00:37:45] WARNING: ../src/objective/regression_obj.cu:188: reg:linear is now deprecated in favor of reg:squarederror.\n",
      "[00:37:45] WARNING: ../src/learner.cc:576: \n",
      "Parameters: { \"silent\" } might not be used.\n",
      "\n",
      "  This could be a false alarm, with some parameters getting used by language bindings but\n",
      "  then being mistakenly passed down to XGBoost core, or some parameter actually being used\n",
      "  but getting flagged wrongly here. Please open an issue if you find any such cases.\n",
      "\n",
      "\n",
      "[CV 4/5] END colsample_bytree=0.9, learning_rate=0.05, max_depth=7, min_child_weight=4, n_estimators=500, objective=reg:linear, silent=1, subsample=0.9;, score=0.572 total time= 1.7min\n",
      "[00:32:52] WARNING: ../src/objective/regression_obj.cu:188: reg:linear is now deprecated in favor of reg:squarederror.\n",
      "[00:32:52] WARNING: ../src/learner.cc:576: \n",
      "Parameters: { \"silent\" } might not be used.\n",
      "\n",
      "  This could be a false alarm, with some parameters getting used by language bindings but\n",
      "  then being mistakenly passed down to XGBoost core, or some parameter actually being used\n",
      "  but getting flagged wrongly here. Please open an issue if you find any such cases.\n",
      "\n",
      "\n",
      "[CV 2/5] END colsample_bytree=0.8, learning_rate=0.01, max_depth=7, min_child_weight=4, n_estimators=500, objective=reg:linear, silent=1, subsample=0.8;, score=0.695 total time= 1.7min\n",
      "[00:34:35] WARNING: ../src/objective/regression_obj.cu:188: reg:linear is now deprecated in favor of reg:squarederror.\n",
      "[00:34:35] WARNING: ../src/learner.cc:576: \n",
      "Parameters: { \"silent\" } might not be used.\n",
      "\n",
      "  This could be a false alarm, with some parameters getting used by language bindings but\n",
      "  then being mistakenly passed down to XGBoost core, or some parameter actually being used\n",
      "  but getting flagged wrongly here. Please open an issue if you find any such cases.\n",
      "\n",
      "\n",
      "[CV 1/5] END colsample_bytree=0.9, learning_rate=0.07, max_depth=6, min_child_weight=4, n_estimators=500, objective=reg:linear, silent=1, subsample=0.8;, score=0.420 total time= 1.3min\n",
      "[00:36:27] WARNING: ../src/objective/regression_obj.cu:188: reg:linear is now deprecated in favor of reg:squarederror.\n",
      "[00:36:27] WARNING: ../src/learner.cc:576: \n",
      "Parameters: { \"silent\" } might not be used.\n",
      "\n",
      "  This could be a false alarm, with some parameters getting used by language bindings but\n",
      "  then being mistakenly passed down to XGBoost core, or some parameter actually being used\n",
      "  but getting flagged wrongly here. Please open an issue if you find any such cases.\n",
      "\n",
      "\n",
      "[CV 2/5] END colsample_bytree=0.9, learning_rate=0.07, max_depth=5, min_child_weight=4, n_estimators=500, objective=reg:linear, silent=1, subsample=0.9;, score=0.895 total time= 1.0min\n",
      "[00:37:30] WARNING: ../src/objective/regression_obj.cu:188: reg:linear is now deprecated in favor of reg:squarederror.\n",
      "[00:37:30] WARNING: ../src/learner.cc:576: \n",
      "Parameters: { \"silent\" } might not be used.\n",
      "\n",
      "  This could be a false alarm, with some parameters getting used by language bindings but\n",
      "  then being mistakenly passed down to XGBoost core, or some parameter actually being used\n",
      "  but getting flagged wrongly here. Please open an issue if you find any such cases.\n",
      "\n",
      "\n",
      "[CV 1/5] END colsample_bytree=0.7, learning_rate=0.07, max_depth=5, min_child_weight=4, n_estimators=500, objective=reg:linear, silent=1, subsample=0.7;, score=0.633 total time=  56.8s\n",
      "[00:38:27] WARNING: ../src/objective/regression_obj.cu:188: reg:linear is now deprecated in favor of reg:squarederror.\n",
      "[00:38:27] WARNING: ../src/learner.cc:576: \n",
      "Parameters: { \"silent\" } might not be used.\n",
      "\n",
      "  This could be a false alarm, with some parameters getting used by language bindings but\n",
      "  then being mistakenly passed down to XGBoost core, or some parameter actually being used\n",
      "  but getting flagged wrongly here. Please open an issue if you find any such cases.\n",
      "\n",
      "\n",
      "[CV 1/5] END colsample_bytree=0.7, learning_rate=0.07, max_depth=6, min_child_weight=4, n_estimators=500, objective=reg:linear, silent=1, subsample=0.9;, score=0.575 total time= 1.0min\n",
      "[00:32:53] WARNING: ../src/objective/regression_obj.cu:188: reg:linear is now deprecated in favor of reg:squarederror.\n",
      "[00:32:53] WARNING: ../src/learner.cc:576: \n",
      "Parameters: { \"silent\" } might not be used.\n",
      "\n",
      "  This could be a false alarm, with some parameters getting used by language bindings but\n",
      "  then being mistakenly passed down to XGBoost core, or some parameter actually being used\n",
      "  but getting flagged wrongly here. Please open an issue if you find any such cases.\n",
      "\n",
      "\n",
      "[CV 5/5] END colsample_bytree=0.9, learning_rate=0.03, max_depth=7, min_child_weight=4, n_estimators=500, objective=reg:linear, silent=1, subsample=0.8;, score=-0.183 total time= 1.7min\n",
      "[00:34:36] WARNING: ../src/objective/regression_obj.cu:188: reg:linear is now deprecated in favor of reg:squarederror.\n",
      "[00:34:36] WARNING: ../src/learner.cc:576: \n",
      "Parameters: { \"silent\" } might not be used.\n",
      "\n",
      "  This could be a false alarm, with some parameters getting used by language bindings but\n",
      "  then being mistakenly passed down to XGBoost core, or some parameter actually being used\n",
      "  but getting flagged wrongly here. Please open an issue if you find any such cases.\n",
      "\n",
      "\n",
      "[CV 4/5] END colsample_bytree=0.9, learning_rate=0.07, max_depth=6, min_child_weight=4, n_estimators=500, objective=reg:linear, silent=1, subsample=0.8;, score=0.450 total time= 1.3min\n",
      "[00:36:27] WARNING: ../src/objective/regression_obj.cu:188: reg:linear is now deprecated in favor of reg:squarederror.\n",
      "[00:36:27] WARNING: ../src/learner.cc:576: \n",
      "Parameters: { \"silent\" } might not be used.\n",
      "\n",
      "  This could be a false alarm, with some parameters getting used by language bindings but\n",
      "  then being mistakenly passed down to XGBoost core, or some parameter actually being used\n",
      "  but getting flagged wrongly here. Please open an issue if you find any such cases.\n",
      "\n",
      "\n",
      "[CV 5/5] END colsample_bytree=0.9, learning_rate=0.07, max_depth=5, min_child_weight=4, n_estimators=500, objective=reg:linear, silent=1, subsample=0.9;, score=0.737 total time= 1.1min\n",
      "[00:37:34] WARNING: ../src/objective/regression_obj.cu:188: reg:linear is now deprecated in favor of reg:squarederror.\n",
      "[00:37:34] WARNING: ../src/learner.cc:576: \n",
      "Parameters: { \"silent\" } might not be used.\n",
      "\n",
      "  This could be a false alarm, with some parameters getting used by language bindings but\n",
      "  then being mistakenly passed down to XGBoost core, or some parameter actually being used\n",
      "  but getting flagged wrongly here. Please open an issue if you find any such cases.\n",
      "\n",
      "\n",
      "[CV 2/5] END colsample_bytree=0.7, learning_rate=0.07, max_depth=5, min_child_weight=4, n_estimators=500, objective=reg:linear, silent=1, subsample=0.7;, score=0.827 total time=  56.2s\n",
      "[00:38:30] WARNING: ../src/objective/regression_obj.cu:188: reg:linear is now deprecated in favor of reg:squarederror.\n",
      "[00:38:30] WARNING: ../src/learner.cc:576: \n",
      "Parameters: { \"silent\" } might not be used.\n",
      "\n",
      "  This could be a false alarm, with some parameters getting used by language bindings but\n",
      "  then being mistakenly passed down to XGBoost core, or some parameter actually being used\n",
      "  but getting flagged wrongly here. Please open an issue if you find any such cases.\n",
      "\n",
      "\n",
      "[CV 2/5] END colsample_bytree=0.7, learning_rate=0.07, max_depth=6, min_child_weight=4, n_estimators=500, objective=reg:linear, silent=1, subsample=0.9;, score=0.823 total time= 1.0min\n",
      "[00:32:52] WARNING: ../src/objective/regression_obj.cu:188: reg:linear is now deprecated in favor of reg:squarederror.\n",
      "[00:32:52] WARNING: ../src/learner.cc:576: \n",
      "Parameters: { \"silent\" } might not be used.\n",
      "\n",
      "  This could be a false alarm, with some parameters getting used by language bindings but\n",
      "  then being mistakenly passed down to XGBoost core, or some parameter actually being used\n",
      "  but getting flagged wrongly here. Please open an issue if you find any such cases.\n",
      "\n",
      "\n",
      "[CV 1/5] END colsample_bytree=0.9, learning_rate=0.03, max_depth=7, min_child_weight=4, n_estimators=500, objective=reg:linear, silent=1, subsample=0.8;, score=0.473 total time= 1.7min\n",
      "[00:34:36] WARNING: ../src/objective/regression_obj.cu:188: reg:linear is now deprecated in favor of reg:squarederror.\n",
      "[00:34:36] WARNING: ../src/learner.cc:576: \n",
      "Parameters: { \"silent\" } might not be used.\n",
      "\n",
      "  This could be a false alarm, with some parameters getting used by language bindings but\n",
      "  then being mistakenly passed down to XGBoost core, or some parameter actually being used\n",
      "  but getting flagged wrongly here. Please open an issue if you find any such cases.\n",
      "\n",
      "\n",
      "[CV 3/5] END colsample_bytree=0.9, learning_rate=0.07, max_depth=6, min_child_weight=4, n_estimators=500, objective=reg:linear, silent=1, subsample=0.8;, score=0.648 total time= 1.3min\n",
      "[00:36:27] WARNING: ../src/objective/regression_obj.cu:188: reg:linear is now deprecated in favor of reg:squarederror.\n",
      "[00:36:27] WARNING: ../src/learner.cc:576: \n",
      "Parameters: { \"silent\" } might not be used.\n",
      "\n",
      "  This could be a false alarm, with some parameters getting used by language bindings but\n",
      "  then being mistakenly passed down to XGBoost core, or some parameter actually being used\n",
      "  but getting flagged wrongly here. Please open an issue if you find any such cases.\n",
      "\n",
      "\n",
      "[CV 3/5] END colsample_bytree=0.9, learning_rate=0.07, max_depth=5, min_child_weight=4, n_estimators=500, objective=reg:linear, silent=1, subsample=0.9;, score=0.734 total time= 1.1min\n",
      "[00:37:35] WARNING: ../src/objective/regression_obj.cu:188: reg:linear is now deprecated in favor of reg:squarederror.\n",
      "[00:37:35] WARNING: ../src/learner.cc:576: \n",
      "Parameters: { \"silent\" } might not be used.\n",
      "\n",
      "  This could be a false alarm, with some parameters getting used by language bindings but\n",
      "  then being mistakenly passed down to XGBoost core, or some parameter actually being used\n",
      "  but getting flagged wrongly here. Please open an issue if you find any such cases.\n",
      "\n",
      "\n",
      "[CV 3/5] END colsample_bytree=0.7, learning_rate=0.07, max_depth=5, min_child_weight=4, n_estimators=500, objective=reg:linear, silent=1, subsample=0.7;, score=0.751 total time=  55.8s\n",
      "[00:38:31] WARNING: ../src/objective/regression_obj.cu:188: reg:linear is now deprecated in favor of reg:squarederror.\n",
      "[00:38:31] WARNING: ../src/learner.cc:576: \n",
      "Parameters: { \"silent\" } might not be used.\n",
      "\n",
      "  This could be a false alarm, with some parameters getting used by language bindings but\n",
      "  then being mistakenly passed down to XGBoost core, or some parameter actually being used\n",
      "  but getting flagged wrongly here. Please open an issue if you find any such cases.\n",
      "\n",
      "\n",
      "[CV 4/5] END colsample_bytree=0.7, learning_rate=0.07, max_depth=6, min_child_weight=4, n_estimators=500, objective=reg:linear, silent=1, subsample=0.9;, score=0.601 total time= 1.0min\n",
      "[00:32:52] WARNING: ../src/objective/regression_obj.cu:188: reg:linear is now deprecated in favor of reg:squarederror.\n",
      "[00:32:52] WARNING: ../src/learner.cc:576: \n",
      "Parameters: { \"silent\" } might not be used.\n",
      "\n",
      "  This could be a false alarm, with some parameters getting used by language bindings but\n",
      "  then being mistakenly passed down to XGBoost core, or some parameter actually being used\n",
      "  but getting flagged wrongly here. Please open an issue if you find any such cases.\n",
      "\n",
      "\n",
      "[CV 2/5] END colsample_bytree=0.9, learning_rate=0.03, max_depth=7, min_child_weight=4, n_estimators=500, objective=reg:linear, silent=1, subsample=0.8;, score=0.711 total time= 1.7min\n",
      "[00:34:36] WARNING: ../src/objective/regression_obj.cu:188: reg:linear is now deprecated in favor of reg:squarederror.\n",
      "[00:34:36] WARNING: ../src/learner.cc:576: \n",
      "Parameters: { \"silent\" } might not be used.\n",
      "\n",
      "  This could be a false alarm, with some parameters getting used by language bindings but\n",
      "  then being mistakenly passed down to XGBoost core, or some parameter actually being used\n",
      "  but getting flagged wrongly here. Please open an issue if you find any such cases.\n",
      "\n",
      "\n",
      "[CV 2/5] END colsample_bytree=0.9, learning_rate=0.07, max_depth=6, min_child_weight=4, n_estimators=500, objective=reg:linear, silent=1, subsample=0.8;, score=0.710 total time= 1.3min\n",
      "[00:36:27] WARNING: ../src/objective/regression_obj.cu:188: reg:linear is now deprecated in favor of reg:squarederror.\n",
      "[00:36:27] WARNING: ../src/learner.cc:576: \n",
      "Parameters: { \"silent\" } might not be used.\n",
      "\n",
      "  This could be a false alarm, with some parameters getting used by language bindings but\n",
      "  then being mistakenly passed down to XGBoost core, or some parameter actually being used\n",
      "  but getting flagged wrongly here. Please open an issue if you find any such cases.\n",
      "\n",
      "\n",
      "[CV 1/5] END colsample_bytree=0.9, learning_rate=0.07, max_depth=5, min_child_weight=4, n_estimators=500, objective=reg:linear, silent=1, subsample=0.9;, score=0.745 total time= 1.1min\n",
      "[00:37:35] WARNING: ../src/objective/regression_obj.cu:188: reg:linear is now deprecated in favor of reg:squarederror.\n",
      "[00:37:35] WARNING: ../src/learner.cc:576: \n",
      "Parameters: { \"silent\" } might not be used.\n",
      "\n",
      "  This could be a false alarm, with some parameters getting used by language bindings but\n",
      "  then being mistakenly passed down to XGBoost core, or some parameter actually being used\n",
      "  but getting flagged wrongly here. Please open an issue if you find any such cases.\n",
      "\n",
      "\n",
      "[CV 4/5] END colsample_bytree=0.7, learning_rate=0.07, max_depth=5, min_child_weight=4, n_estimators=500, objective=reg:linear, silent=1, subsample=0.7;, score=0.620 total time=  56.2s\n",
      "[00:38:32] WARNING: ../src/objective/regression_obj.cu:188: reg:linear is now deprecated in favor of reg:squarederror.\n",
      "[00:38:32] WARNING: ../src/learner.cc:576: \n",
      "Parameters: { \"silent\" } might not be used.\n",
      "\n",
      "  This could be a false alarm, with some parameters getting used by language bindings but\n",
      "  then being mistakenly passed down to XGBoost core, or some parameter actually being used\n",
      "  but getting flagged wrongly here. Please open an issue if you find any such cases.\n",
      "\n",
      "\n",
      "[CV 5/5] END colsample_bytree=0.7, learning_rate=0.07, max_depth=6, min_child_weight=4, n_estimators=500, objective=reg:linear, silent=1, subsample=0.9;, score=0.688 total time= 1.0min\n",
      "[00:32:52] WARNING: ../src/objective/regression_obj.cu:188: reg:linear is now deprecated in favor of reg:squarederror.\n",
      "[00:32:52] WARNING: ../src/learner.cc:576: \n",
      "Parameters: { \"silent\" } might not be used.\n",
      "\n",
      "  This could be a false alarm, with some parameters getting used by language bindings but\n",
      "  then being mistakenly passed down to XGBoost core, or some parameter actually being used\n",
      "  but getting flagged wrongly here. Please open an issue if you find any such cases.\n",
      "\n",
      "\n",
      "[CV 4/5] END colsample_bytree=0.9, learning_rate=0.03, max_depth=7, min_child_weight=4, n_estimators=500, objective=reg:linear, silent=1, subsample=0.8;, score=0.415 total time= 1.8min\n",
      "[00:34:38] WARNING: ../src/objective/regression_obj.cu:188: reg:linear is now deprecated in favor of reg:squarederror.\n",
      "[00:34:38] WARNING: ../src/learner.cc:576: \n",
      "Parameters: { \"silent\" } might not be used.\n",
      "\n",
      "  This could be a false alarm, with some parameters getting used by language bindings but\n",
      "  then being mistakenly passed down to XGBoost core, or some parameter actually being used\n",
      "  but getting flagged wrongly here. Please open an issue if you find any such cases.\n",
      "\n",
      "\n",
      "[CV 5/5] END colsample_bytree=0.9, learning_rate=0.07, max_depth=6, min_child_weight=4, n_estimators=500, objective=reg:linear, silent=1, subsample=0.8;, score=-0.168 total time= 1.3min\n",
      "[00:36:27] WARNING: ../src/objective/regression_obj.cu:188: reg:linear is now deprecated in favor of reg:squarederror.\n",
      "[00:36:27] WARNING: ../src/learner.cc:576: \n",
      "Parameters: { \"silent\" } might not be used.\n",
      "\n",
      "  This could be a false alarm, with some parameters getting used by language bindings but\n",
      "  then being mistakenly passed down to XGBoost core, or some parameter actually being used\n",
      "  but getting flagged wrongly here. Please open an issue if you find any such cases.\n",
      "\n",
      "\n",
      "[CV 4/5] END colsample_bytree=0.9, learning_rate=0.07, max_depth=5, min_child_weight=4, n_estimators=500, objective=reg:linear, silent=1, subsample=0.9;, score=0.578 total time= 1.1min\n",
      "[00:37:36] WARNING: ../src/objective/regression_obj.cu:188: reg:linear is now deprecated in favor of reg:squarederror.\n",
      "[00:37:36] WARNING: ../src/learner.cc:576: \n",
      "Parameters: { \"silent\" } might not be used.\n",
      "\n",
      "  This could be a false alarm, with some parameters getting used by language bindings but\n",
      "  then being mistakenly passed down to XGBoost core, or some parameter actually being used\n",
      "  but getting flagged wrongly here. Please open an issue if you find any such cases.\n",
      "\n",
      "\n",
      "[CV 5/5] END colsample_bytree=0.7, learning_rate=0.07, max_depth=5, min_child_weight=4, n_estimators=500, objective=reg:linear, silent=1, subsample=0.7;, score=0.684 total time=  54.7s\n",
      "[00:38:31] WARNING: ../src/objective/regression_obj.cu:188: reg:linear is now deprecated in favor of reg:squarederror.\n",
      "[00:38:31] WARNING: ../src/learner.cc:576: \n",
      "Parameters: { \"silent\" } might not be used.\n",
      "\n",
      "  This could be a false alarm, with some parameters getting used by language bindings but\n",
      "  then being mistakenly passed down to XGBoost core, or some parameter actually being used\n",
      "  but getting flagged wrongly here. Please open an issue if you find any such cases.\n",
      "\n",
      "\n",
      "[CV 3/5] END colsample_bytree=0.7, learning_rate=0.07, max_depth=6, min_child_weight=4, n_estimators=500, objective=reg:linear, silent=1, subsample=0.9;, score=0.726 total time= 1.0min\n",
      "[00:32:52] WARNING: ../src/objective/regression_obj.cu:188: reg:linear is now deprecated in favor of reg:squarederror.\n",
      "[00:32:52] WARNING: ../src/learner.cc:576: \n",
      "Parameters: { \"silent\" } might not be used.\n",
      "\n",
      "  This could be a false alarm, with some parameters getting used by language bindings but\n",
      "  then being mistakenly passed down to XGBoost core, or some parameter actually being used\n",
      "  but getting flagged wrongly here. Please open an issue if you find any such cases.\n",
      "\n",
      "\n",
      "[CV 3/5] END colsample_bytree=0.9, learning_rate=0.03, max_depth=7, min_child_weight=4, n_estimators=500, objective=reg:linear, silent=1, subsample=0.8;, score=0.595 total time= 1.8min\n",
      "[00:34:41] WARNING: ../src/objective/regression_obj.cu:188: reg:linear is now deprecated in favor of reg:squarederror.\n",
      "[00:34:41] WARNING: ../src/learner.cc:576: \n",
      "Parameters: { \"silent\" } might not be used.\n",
      "\n",
      "  This could be a false alarm, with some parameters getting used by language bindings but\n",
      "  then being mistakenly passed down to XGBoost core, or some parameter actually being used\n",
      "  but getting flagged wrongly here. Please open an issue if you find any such cases.\n",
      "\n",
      "\n",
      "[CV 3/5] END colsample_bytree=0.8, learning_rate=0.03, max_depth=7, min_child_weight=4, n_estimators=500, objective=reg:linear, silent=1, subsample=0.9;, score=0.613 total time= 1.5min\n",
      "[00:36:27] WARNING: ../src/objective/regression_obj.cu:188: reg:linear is now deprecated in favor of reg:squarederror.\n",
      "[00:36:27] WARNING: ../src/learner.cc:576: \n",
      "Parameters: { \"silent\" } might not be used.\n",
      "\n",
      "  This could be a false alarm, with some parameters getting used by language bindings but\n",
      "  then being mistakenly passed down to XGBoost core, or some parameter actually being used\n",
      "  but getting flagged wrongly here. Please open an issue if you find any such cases.\n",
      "\n",
      "\n",
      "[CV 4/5] END colsample_bytree=0.7, learning_rate=0.01, max_depth=6, min_child_weight=4, n_estimators=500, objective=reg:linear, silent=1, subsample=0.7;, score=0.621 total time= 1.2min\n",
      "[00:37:41] WARNING: ../src/objective/regression_obj.cu:188: reg:linear is now deprecated in favor of reg:squarederror.\n",
      "[00:37:41] WARNING: ../src/learner.cc:576: \n",
      "Parameters: { \"silent\" } might not be used.\n",
      "\n",
      "  This could be a false alarm, with some parameters getting used by language bindings but\n",
      "  then being mistakenly passed down to XGBoost core, or some parameter actually being used\n",
      "  but getting flagged wrongly here. Please open an issue if you find any such cases.\n",
      "\n",
      "\n",
      "[CV 5/5] END colsample_bytree=0.7, learning_rate=0.01, max_depth=6, min_child_weight=4, n_estimators=500, objective=reg:linear, silent=1, subsample=0.9;, score=0.741 total time= 1.3min\n",
      "[00:38:58] WARNING: ../src/objective/regression_obj.cu:188: reg:linear is now deprecated in favor of reg:squarederror.\n",
      "[00:38:58] WARNING: ../src/learner.cc:576: \n",
      "Parameters: { \"silent\" } might not be used.\n",
      "\n",
      "  This could be a false alarm, with some parameters getting used by language bindings but\n",
      "  then being mistakenly passed down to XGBoost core, or some parameter actually being used\n",
      "  but getting flagged wrongly here. Please open an issue if you find any such cases.\n",
      "\n",
      "\n",
      "[CV 3/5] END colsample_bytree=0.8, learning_rate=0.03, max_depth=7, min_child_weight=4, n_estimators=500, objective=reg:linear, silent=1, subsample=0.7;, score=0.722 total time=  43.5s\n",
      "[00:32:52] WARNING: ../src/objective/regression_obj.cu:188: reg:linear is now deprecated in favor of reg:squarederror.\n",
      "[00:32:52] WARNING: ../src/learner.cc:576: \n",
      "Parameters: { \"silent\" } might not be used.\n",
      "\n",
      "  This could be a false alarm, with some parameters getting used by language bindings but\n",
      "  then being mistakenly passed down to XGBoost core, or some parameter actually being used\n",
      "  but getting flagged wrongly here. Please open an issue if you find any such cases.\n",
      "\n",
      "\n",
      "[CV 4/5] END colsample_bytree=0.9, learning_rate=0.1, max_depth=6, min_child_weight=4, n_estimators=500, objective=reg:linear, silent=1, subsample=0.7;, score=0.391 total time= 1.4min\n",
      "[00:34:14] WARNING: ../src/objective/regression_obj.cu:188: reg:linear is now deprecated in favor of reg:squarederror.\n",
      "[00:34:14] WARNING: ../src/learner.cc:576: \n",
      "Parameters: { \"silent\" } might not be used.\n",
      "\n",
      "  This could be a false alarm, with some parameters getting used by language bindings but\n",
      "  then being mistakenly passed down to XGBoost core, or some parameter actually being used\n",
      "  but getting flagged wrongly here. Please open an issue if you find any such cases.\n",
      "\n",
      "\n",
      "[CV 1/5] END colsample_bytree=0.7, learning_rate=0.07, max_depth=6, min_child_weight=4, n_estimators=500, objective=reg:linear, silent=1, subsample=0.9;, score=0.473 total time= 1.3min\n",
      "[00:35:34] WARNING: ../src/objective/regression_obj.cu:188: reg:linear is now deprecated in favor of reg:squarederror.\n",
      "[00:35:34] WARNING: ../src/learner.cc:576: \n",
      "Parameters: { \"silent\" } might not be used.\n",
      "\n",
      "  This could be a false alarm, with some parameters getting used by language bindings but\n",
      "  then being mistakenly passed down to XGBoost core, or some parameter actually being used\n",
      "  but getting flagged wrongly here. Please open an issue if you find any such cases.\n",
      "\n",
      "\n",
      "[CV 5/5] END colsample_bytree=0.9, learning_rate=0.01, max_depth=7, min_child_weight=4, n_estimators=500, objective=reg:linear, silent=1, subsample=0.7;, score=-0.184 total time=  51.7s\n",
      "[00:36:27] WARNING: ../src/objective/regression_obj.cu:188: reg:linear is now deprecated in favor of reg:squarederror.\n",
      "[00:36:27] WARNING: ../src/learner.cc:576: \n",
      "Parameters: { \"silent\" } might not be used.\n",
      "\n",
      "  This could be a false alarm, with some parameters getting used by language bindings but\n",
      "  then being mistakenly passed down to XGBoost core, or some parameter actually being used\n",
      "  but getting flagged wrongly here. Please open an issue if you find any such cases.\n",
      "\n",
      "\n",
      "[CV 5/5] END colsample_bytree=0.7, learning_rate=0.1, max_depth=6, min_child_weight=4, n_estimators=500, objective=reg:linear, silent=1, subsample=0.9;, score=0.651 total time= 1.2min\n",
      "[00:37:40] WARNING: ../src/objective/regression_obj.cu:188: reg:linear is now deprecated in favor of reg:squarederror.\n",
      "[00:37:40] WARNING: ../src/learner.cc:576: \n",
      "Parameters: { \"silent\" } might not be used.\n",
      "\n",
      "  This could be a false alarm, with some parameters getting used by language bindings but\n",
      "  then being mistakenly passed down to XGBoost core, or some parameter actually being used\n",
      "  but getting flagged wrongly here. Please open an issue if you find any such cases.\n",
      "\n",
      "\n",
      "[CV 4/5] END colsample_bytree=0.7, learning_rate=0.01, max_depth=6, min_child_weight=4, n_estimators=500, objective=reg:linear, silent=1, subsample=0.9;, score=0.623 total time= 1.3min\n",
      "[00:38:57] WARNING: ../src/objective/regression_obj.cu:188: reg:linear is now deprecated in favor of reg:squarederror.\n",
      "[00:38:57] WARNING: ../src/learner.cc:576: \n",
      "Parameters: { \"silent\" } might not be used.\n",
      "\n",
      "  This could be a false alarm, with some parameters getting used by language bindings but\n",
      "  then being mistakenly passed down to XGBoost core, or some parameter actually being used\n",
      "  but getting flagged wrongly here. Please open an issue if you find any such cases.\n",
      "\n",
      "\n",
      "[CV 2/5] END colsample_bytree=0.8, learning_rate=0.03, max_depth=7, min_child_weight=4, n_estimators=500, objective=reg:linear, silent=1, subsample=0.7;, score=0.875 total time=  44.1s\n",
      "[00:32:52] WARNING: ../src/objective/regression_obj.cu:188: reg:linear is now deprecated in favor of reg:squarederror.\n",
      "[00:32:52] WARNING: ../src/learner.cc:576: \n",
      "Parameters: { \"silent\" } might not be used.\n",
      "\n",
      "  This could be a false alarm, with some parameters getting used by language bindings but\n",
      "  then being mistakenly passed down to XGBoost core, or some parameter actually being used\n",
      "  but getting flagged wrongly here. Please open an issue if you find any such cases.\n",
      "\n",
      "\n",
      "[CV 2/5] END colsample_bytree=0.9, learning_rate=0.1, max_depth=6, min_child_weight=4, n_estimators=500, objective=reg:linear, silent=1, subsample=0.7;, score=0.672 total time= 1.4min\n",
      "[00:34:15] WARNING: ../src/objective/regression_obj.cu:188: reg:linear is now deprecated in favor of reg:squarederror.\n",
      "[00:34:15] WARNING: ../src/learner.cc:576: \n",
      "Parameters: { \"silent\" } might not be used.\n",
      "\n",
      "  This could be a false alarm, with some parameters getting used by language bindings but\n",
      "  then being mistakenly passed down to XGBoost core, or some parameter actually being used\n",
      "  but getting flagged wrongly here. Please open an issue if you find any such cases.\n",
      "\n",
      "\n",
      "[CV 2/5] END colsample_bytree=0.7, learning_rate=0.07, max_depth=6, min_child_weight=4, n_estimators=500, objective=reg:linear, silent=1, subsample=0.9;, score=0.685 total time= 1.2min\n",
      "[00:35:29] WARNING: ../src/objective/regression_obj.cu:188: reg:linear is now deprecated in favor of reg:squarederror.\n",
      "[00:35:29] WARNING: ../src/learner.cc:576: \n",
      "Parameters: { \"silent\" } might not be used.\n",
      "\n",
      "  This could be a false alarm, with some parameters getting used by language bindings but\n",
      "  then being mistakenly passed down to XGBoost core, or some parameter actually being used\n",
      "  but getting flagged wrongly here. Please open an issue if you find any such cases.\n",
      "\n",
      "\n",
      "[CV 1/5] END colsample_bytree=0.9, learning_rate=0.01, max_depth=7, min_child_weight=4, n_estimators=500, objective=reg:linear, silent=1, subsample=0.7;, score=0.528 total time=  55.4s\n",
      "[00:36:27] WARNING: ../src/objective/regression_obj.cu:188: reg:linear is now deprecated in favor of reg:squarederror.\n",
      "[00:36:27] WARNING: ../src/learner.cc:576: \n",
      "Parameters: { \"silent\" } might not be used.\n",
      "\n",
      "  This could be a false alarm, with some parameters getting used by language bindings but\n",
      "  then being mistakenly passed down to XGBoost core, or some parameter actually being used\n",
      "  but getting flagged wrongly here. Please open an issue if you find any such cases.\n",
      "\n",
      "\n",
      "[CV 2/5] END colsample_bytree=0.7, learning_rate=0.1, max_depth=6, min_child_weight=4, n_estimators=500, objective=reg:linear, silent=1, subsample=0.9;, score=0.818 total time= 1.2min\n",
      "[00:37:39] WARNING: ../src/objective/regression_obj.cu:188: reg:linear is now deprecated in favor of reg:squarederror.\n",
      "[00:37:39] WARNING: ../src/learner.cc:576: \n",
      "Parameters: { \"silent\" } might not be used.\n",
      "\n",
      "  This could be a false alarm, with some parameters getting used by language bindings but\n",
      "  then being mistakenly passed down to XGBoost core, or some parameter actually being used\n",
      "  but getting flagged wrongly here. Please open an issue if you find any such cases.\n",
      "\n",
      "\n",
      "[CV 1/5] END colsample_bytree=0.7, learning_rate=0.01, max_depth=6, min_child_weight=4, n_estimators=500, objective=reg:linear, silent=1, subsample=0.9;, score=0.707 total time= 1.3min\n",
      "[00:38:57] WARNING: ../src/objective/regression_obj.cu:188: reg:linear is now deprecated in favor of reg:squarederror.\n",
      "[00:38:57] WARNING: ../src/learner.cc:576: \n",
      "Parameters: { \"silent\" } might not be used.\n",
      "\n",
      "  This could be a false alarm, with some parameters getting used by language bindings but\n",
      "  then being mistakenly passed down to XGBoost core, or some parameter actually being used\n",
      "  but getting flagged wrongly here. Please open an issue if you find any such cases.\n",
      "\n",
      "\n",
      "[CV 1/5] END colsample_bytree=0.8, learning_rate=0.03, max_depth=7, min_child_weight=4, n_estimators=500, objective=reg:linear, silent=1, subsample=0.7;, score=0.641 total time=  44.7s\n",
      "[00:32:52] WARNING: ../src/objective/regression_obj.cu:188: reg:linear is now deprecated in favor of reg:squarederror.\n",
      "[00:32:52] WARNING: ../src/learner.cc:576: \n",
      "Parameters: { \"silent\" } might not be used.\n",
      "\n",
      "  This could be a false alarm, with some parameters getting used by language bindings but\n",
      "  then being mistakenly passed down to XGBoost core, or some parameter actually being used\n",
      "  but getting flagged wrongly here. Please open an issue if you find any such cases.\n",
      "\n",
      "\n",
      "[CV 3/5] END colsample_bytree=0.9, learning_rate=0.1, max_depth=6, min_child_weight=4, n_estimators=500, objective=reg:linear, silent=1, subsample=0.7;, score=0.656 total time= 1.4min\n",
      "[00:34:18] WARNING: ../src/objective/regression_obj.cu:188: reg:linear is now deprecated in favor of reg:squarederror.\n",
      "[00:34:18] WARNING: ../src/learner.cc:576: \n",
      "Parameters: { \"silent\" } might not be used.\n",
      "\n",
      "  This could be a false alarm, with some parameters getting used by language bindings but\n",
      "  then being mistakenly passed down to XGBoost core, or some parameter actually being used\n",
      "  but getting flagged wrongly here. Please open an issue if you find any such cases.\n",
      "\n",
      "\n",
      "[CV 5/5] END colsample_bytree=0.7, learning_rate=0.07, max_depth=6, min_child_weight=4, n_estimators=500, objective=reg:linear, silent=1, subsample=0.9;, score=0.103 total time= 1.3min\n",
      "[00:35:34] WARNING: ../src/objective/regression_obj.cu:188: reg:linear is now deprecated in favor of reg:squarederror.\n",
      "[00:35:34] WARNING: ../src/learner.cc:576: \n",
      "Parameters: { \"silent\" } might not be used.\n",
      "\n",
      "  This could be a false alarm, with some parameters getting used by language bindings but\n",
      "  then being mistakenly passed down to XGBoost core, or some parameter actually being used\n",
      "  but getting flagged wrongly here. Please open an issue if you find any such cases.\n",
      "\n",
      "\n",
      "[CV 4/5] END colsample_bytree=0.9, learning_rate=0.01, max_depth=7, min_child_weight=4, n_estimators=500, objective=reg:linear, silent=1, subsample=0.7;, score=0.412 total time=  51.8s\n",
      "[00:36:27] WARNING: ../src/objective/regression_obj.cu:188: reg:linear is now deprecated in favor of reg:squarederror.\n",
      "[00:36:27] WARNING: ../src/learner.cc:576: \n",
      "Parameters: { \"silent\" } might not be used.\n",
      "\n",
      "  This could be a false alarm, with some parameters getting used by language bindings but\n",
      "  then being mistakenly passed down to XGBoost core, or some parameter actually being used\n",
      "  but getting flagged wrongly here. Please open an issue if you find any such cases.\n",
      "\n",
      "\n",
      "[CV 4/5] END colsample_bytree=0.7, learning_rate=0.1, max_depth=6, min_child_weight=4, n_estimators=500, objective=reg:linear, silent=1, subsample=0.9;, score=0.575 total time= 1.2min\n",
      "[00:37:39] WARNING: ../src/objective/regression_obj.cu:188: reg:linear is now deprecated in favor of reg:squarederror.\n",
      "[00:37:39] WARNING: ../src/learner.cc:576: \n",
      "Parameters: { \"silent\" } might not be used.\n",
      "\n",
      "  This could be a false alarm, with some parameters getting used by language bindings but\n",
      "  then being mistakenly passed down to XGBoost core, or some parameter actually being used\n",
      "  but getting flagged wrongly here. Please open an issue if you find any such cases.\n",
      "\n",
      "\n",
      "[CV 2/5] END colsample_bytree=0.7, learning_rate=0.01, max_depth=6, min_child_weight=4, n_estimators=500, objective=reg:linear, silent=1, subsample=0.9;, score=0.858 total time= 1.3min\n",
      "[00:39:00] WARNING: ../src/objective/regression_obj.cu:188: reg:linear is now deprecated in favor of reg:squarederror.\n",
      "[00:39:00] WARNING: ../src/learner.cc:576: \n",
      "Parameters: { \"silent\" } might not be used.\n",
      "\n",
      "  This could be a false alarm, with some parameters getting used by language bindings but\n",
      "  then being mistakenly passed down to XGBoost core, or some parameter actually being used\n",
      "  but getting flagged wrongly here. Please open an issue if you find any such cases.\n",
      "\n",
      "\n",
      "[CV 5/5] END colsample_bytree=0.8, learning_rate=0.03, max_depth=7, min_child_weight=4, n_estimators=500, objective=reg:linear, silent=1, subsample=0.7;, score=0.742 total time=  41.4s\n",
      "[00:32:52] WARNING: ../src/objective/regression_obj.cu:188: reg:linear is now deprecated in favor of reg:squarederror.\n",
      "[00:32:52] WARNING: ../src/learner.cc:576: \n",
      "Parameters: { \"silent\" } might not be used.\n",
      "\n",
      "  This could be a false alarm, with some parameters getting used by language bindings but\n",
      "  then being mistakenly passed down to XGBoost core, or some parameter actually being used\n",
      "  but getting flagged wrongly here. Please open an issue if you find any such cases.\n",
      "\n",
      "\n",
      "[CV 1/5] END colsample_bytree=0.9, learning_rate=0.1, max_depth=6, min_child_weight=4, n_estimators=500, objective=reg:linear, silent=1, subsample=0.7;, score=0.515 total time= 1.4min\n",
      "[00:34:16] WARNING: ../src/objective/regression_obj.cu:188: reg:linear is now deprecated in favor of reg:squarederror.\n",
      "[00:34:16] WARNING: ../src/learner.cc:576: \n",
      "Parameters: { \"silent\" } might not be used.\n",
      "\n",
      "  This could be a false alarm, with some parameters getting used by language bindings but\n",
      "  then being mistakenly passed down to XGBoost core, or some parameter actually being used\n",
      "  but getting flagged wrongly here. Please open an issue if you find any such cases.\n",
      "\n",
      "\n",
      "[CV 3/5] END colsample_bytree=0.7, learning_rate=0.07, max_depth=6, min_child_weight=4, n_estimators=500, objective=reg:linear, silent=1, subsample=0.9;, score=0.679 total time= 1.3min\n",
      "[00:35:32] WARNING: ../src/objective/regression_obj.cu:188: reg:linear is now deprecated in favor of reg:squarederror.\n",
      "[00:35:32] WARNING: ../src/learner.cc:576: \n",
      "Parameters: { \"silent\" } might not be used.\n",
      "\n",
      "  This could be a false alarm, with some parameters getting used by language bindings but\n",
      "  then being mistakenly passed down to XGBoost core, or some parameter actually being used\n",
      "  but getting flagged wrongly here. Please open an issue if you find any such cases.\n",
      "\n",
      "\n",
      "[CV 3/5] END colsample_bytree=0.9, learning_rate=0.01, max_depth=7, min_child_weight=4, n_estimators=500, objective=reg:linear, silent=1, subsample=0.7;, score=0.578 total time=  53.1s\n",
      "[00:36:27] WARNING: ../src/objective/regression_obj.cu:188: reg:linear is now deprecated in favor of reg:squarederror.\n",
      "[00:36:27] WARNING: ../src/learner.cc:576: \n",
      "Parameters: { \"silent\" } might not be used.\n",
      "\n",
      "  This could be a false alarm, with some parameters getting used by language bindings but\n",
      "  then being mistakenly passed down to XGBoost core, or some parameter actually being used\n",
      "  but getting flagged wrongly here. Please open an issue if you find any such cases.\n",
      "\n",
      "\n",
      "[CV 3/5] END colsample_bytree=0.7, learning_rate=0.1, max_depth=6, min_child_weight=4, n_estimators=500, objective=reg:linear, silent=1, subsample=0.9;, score=0.698 total time= 1.2min\n",
      "[00:37:39] WARNING: ../src/objective/regression_obj.cu:188: reg:linear is now deprecated in favor of reg:squarederror.\n",
      "[00:37:39] WARNING: ../src/learner.cc:576: \n",
      "Parameters: { \"silent\" } might not be used.\n",
      "\n",
      "  This could be a false alarm, with some parameters getting used by language bindings but\n",
      "  then being mistakenly passed down to XGBoost core, or some parameter actually being used\n",
      "  but getting flagged wrongly here. Please open an issue if you find any such cases.\n",
      "\n",
      "\n",
      "[CV 3/5] END colsample_bytree=0.7, learning_rate=0.01, max_depth=6, min_child_weight=4, n_estimators=500, objective=reg:linear, silent=1, subsample=0.9;, score=0.733 total time= 1.3min\n",
      "[00:38:58] WARNING: ../src/objective/regression_obj.cu:188: reg:linear is now deprecated in favor of reg:squarederror.\n",
      "[00:38:58] WARNING: ../src/learner.cc:576: \n",
      "Parameters: { \"silent\" } might not be used.\n",
      "\n",
      "  This could be a false alarm, with some parameters getting used by language bindings but\n",
      "  then being mistakenly passed down to XGBoost core, or some parameter actually being used\n",
      "  but getting flagged wrongly here. Please open an issue if you find any such cases.\n",
      "\n",
      "\n",
      "[CV 4/5] END colsample_bytree=0.8, learning_rate=0.03, max_depth=7, min_child_weight=4, n_estimators=500, objective=reg:linear, silent=1, subsample=0.7;, score=0.601 total time=  43.6s\n"
     ]
    }
   ],
   "source": [
    "print(xgb_grid_lng.best_params_)\n",
    "print(xgb_grid_lng.best_score_)"
   ]
  },
  {
   "cell_type": "code",
   "execution_count": 77,
   "id": "38817406-194a-4114-adaa-fea04bedb566",
   "metadata": {},
   "outputs": [],
   "source": [
    "pickle.dump(xgb_grid_lng.best_estimator_, open(\"xgb_tuned_lng.pickle\", \"wb\"))"
   ]
  }
 ],
 "metadata": {
  "kernelspec": {
   "display_name": "tensorflow",
   "language": "python",
   "name": "tensorflow"
  },
  "language_info": {
   "codemirror_mode": {
    "name": "ipython",
    "version": 3
   },
   "file_extension": ".py",
   "mimetype": "text/x-python",
   "name": "python",
   "nbconvert_exporter": "python",
   "pygments_lexer": "ipython3",
   "version": "3.8.11"
  }
 },
 "nbformat": 4,
 "nbformat_minor": 5
}
